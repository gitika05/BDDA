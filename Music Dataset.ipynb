{
 "cells": [
  {
   "cell_type": "code",
   "execution_count": 1,
   "id": "ab55732f",
   "metadata": {},
   "outputs": [],
   "source": [
    "import numpy as np\n",
    "import pandas as pd\n",
    "from sklearn.preprocessing import StandardScaler as ss\n",
    "from sklearn.decomposition import PCA\n",
    "from sklearn.model_selection import train_test_split\n",
    "from sklearn.model_selection import StratifiedKFold\n",
    "from sklearn.pipeline import Pipeline\n",
    "from sklearn.pipeline import make_pipeline\n",
    "from sklearn.model_selection import GridSearchCV\n",
    "from sklearn.model_selection import RandomizedSearchCV\n",
    "from sklearn.tree import DecisionTreeClassifier\n",
    "import matplotlib.pyplot as plt\n",
    "import seaborn as sns\n",
    "from sklearn import set_config\n",
    "from sklearn.impute import SimpleImputer\n",
    "from sklearn.preprocessing import OneHotEncoder as onehot\n",
    "from sklearn.preprocessing import StandardScaler\n",
    "from sklearn.compose import ColumnTransformer"
   ]
  },
  {
   "cell_type": "code",
   "execution_count": 2,
   "id": "72000c41",
   "metadata": {},
   "outputs": [],
   "source": [
    "from IPython.core.interactiveshell import InteractiveShell\n",
    "InteractiveShell.ast_node_interactivity = \"all\""
   ]
  },
  {
   "cell_type": "code",
   "execution_count": 3,
   "id": "2bef7568",
   "metadata": {},
   "outputs": [],
   "source": [
    "df=pd.read_csv(\"C:\\\\Users\\\\asus\\\\Desktop\\\\BDDA TEXT\\\\MUSIC\\\\genres_v2.csv\",low_memory=False)"
   ]
  },
  {
   "cell_type": "code",
   "execution_count": 4,
   "id": "f9ec9170",
   "metadata": {
    "scrolled": false
   },
   "outputs": [
    {
     "data": {
      "text/html": [
       "<div>\n",
       "<style scoped>\n",
       "    .dataframe tbody tr th:only-of-type {\n",
       "        vertical-align: middle;\n",
       "    }\n",
       "\n",
       "    .dataframe tbody tr th {\n",
       "        vertical-align: top;\n",
       "    }\n",
       "\n",
       "    .dataframe thead th {\n",
       "        text-align: right;\n",
       "    }\n",
       "</style>\n",
       "<table border=\"1\" class=\"dataframe\">\n",
       "  <thead>\n",
       "    <tr style=\"text-align: right;\">\n",
       "      <th></th>\n",
       "      <th>danceability</th>\n",
       "      <th>energy</th>\n",
       "      <th>key</th>\n",
       "      <th>loudness</th>\n",
       "      <th>mode</th>\n",
       "      <th>speechiness</th>\n",
       "      <th>acousticness</th>\n",
       "      <th>instrumentalness</th>\n",
       "      <th>liveness</th>\n",
       "      <th>valence</th>\n",
       "      <th>...</th>\n",
       "      <th>id</th>\n",
       "      <th>uri</th>\n",
       "      <th>track_href</th>\n",
       "      <th>analysis_url</th>\n",
       "      <th>duration_ms</th>\n",
       "      <th>time_signature</th>\n",
       "      <th>genre</th>\n",
       "      <th>song_name</th>\n",
       "      <th>Unnamed: 0</th>\n",
       "      <th>title</th>\n",
       "    </tr>\n",
       "  </thead>\n",
       "  <tbody>\n",
       "    <tr>\n",
       "      <th>0</th>\n",
       "      <td>0.831</td>\n",
       "      <td>0.814</td>\n",
       "      <td>2</td>\n",
       "      <td>-7.364</td>\n",
       "      <td>1</td>\n",
       "      <td>0.4200</td>\n",
       "      <td>0.059800</td>\n",
       "      <td>0.013400</td>\n",
       "      <td>0.0556</td>\n",
       "      <td>0.3890</td>\n",
       "      <td>...</td>\n",
       "      <td>2Vc6NJ9PW9gD9q343XFRKx</td>\n",
       "      <td>spotify:track:2Vc6NJ9PW9gD9q343XFRKx</td>\n",
       "      <td>https://api.spotify.com/v1/tracks/2Vc6NJ9PW9gD...</td>\n",
       "      <td>https://api.spotify.com/v1/audio-analysis/2Vc6...</td>\n",
       "      <td>124539</td>\n",
       "      <td>4</td>\n",
       "      <td>Dark Trap</td>\n",
       "      <td>Mercury: Retrograde</td>\n",
       "      <td>NaN</td>\n",
       "      <td>NaN</td>\n",
       "    </tr>\n",
       "    <tr>\n",
       "      <th>1</th>\n",
       "      <td>0.719</td>\n",
       "      <td>0.493</td>\n",
       "      <td>8</td>\n",
       "      <td>-7.230</td>\n",
       "      <td>1</td>\n",
       "      <td>0.0794</td>\n",
       "      <td>0.401000</td>\n",
       "      <td>0.000000</td>\n",
       "      <td>0.1180</td>\n",
       "      <td>0.1240</td>\n",
       "      <td>...</td>\n",
       "      <td>7pgJBLVz5VmnL7uGHmRj6p</td>\n",
       "      <td>spotify:track:7pgJBLVz5VmnL7uGHmRj6p</td>\n",
       "      <td>https://api.spotify.com/v1/tracks/7pgJBLVz5Vmn...</td>\n",
       "      <td>https://api.spotify.com/v1/audio-analysis/7pgJ...</td>\n",
       "      <td>224427</td>\n",
       "      <td>4</td>\n",
       "      <td>Dark Trap</td>\n",
       "      <td>Pathology</td>\n",
       "      <td>NaN</td>\n",
       "      <td>NaN</td>\n",
       "    </tr>\n",
       "    <tr>\n",
       "      <th>2</th>\n",
       "      <td>0.850</td>\n",
       "      <td>0.893</td>\n",
       "      <td>5</td>\n",
       "      <td>-4.783</td>\n",
       "      <td>1</td>\n",
       "      <td>0.0623</td>\n",
       "      <td>0.013800</td>\n",
       "      <td>0.000004</td>\n",
       "      <td>0.3720</td>\n",
       "      <td>0.0391</td>\n",
       "      <td>...</td>\n",
       "      <td>0vSWgAlfpye0WCGeNmuNhy</td>\n",
       "      <td>spotify:track:0vSWgAlfpye0WCGeNmuNhy</td>\n",
       "      <td>https://api.spotify.com/v1/tracks/0vSWgAlfpye0...</td>\n",
       "      <td>https://api.spotify.com/v1/audio-analysis/0vSW...</td>\n",
       "      <td>98821</td>\n",
       "      <td>4</td>\n",
       "      <td>Dark Trap</td>\n",
       "      <td>Symbiote</td>\n",
       "      <td>NaN</td>\n",
       "      <td>NaN</td>\n",
       "    </tr>\n",
       "    <tr>\n",
       "      <th>3</th>\n",
       "      <td>0.476</td>\n",
       "      <td>0.781</td>\n",
       "      <td>0</td>\n",
       "      <td>-4.710</td>\n",
       "      <td>1</td>\n",
       "      <td>0.1030</td>\n",
       "      <td>0.023700</td>\n",
       "      <td>0.000000</td>\n",
       "      <td>0.1140</td>\n",
       "      <td>0.1750</td>\n",
       "      <td>...</td>\n",
       "      <td>0VSXnJqQkwuH2ei1nOQ1nu</td>\n",
       "      <td>spotify:track:0VSXnJqQkwuH2ei1nOQ1nu</td>\n",
       "      <td>https://api.spotify.com/v1/tracks/0VSXnJqQkwuH...</td>\n",
       "      <td>https://api.spotify.com/v1/audio-analysis/0VSX...</td>\n",
       "      <td>123661</td>\n",
       "      <td>3</td>\n",
       "      <td>Dark Trap</td>\n",
       "      <td>ProductOfDrugs (Prod. The Virus and Antidote)</td>\n",
       "      <td>NaN</td>\n",
       "      <td>NaN</td>\n",
       "    </tr>\n",
       "    <tr>\n",
       "      <th>4</th>\n",
       "      <td>0.798</td>\n",
       "      <td>0.624</td>\n",
       "      <td>2</td>\n",
       "      <td>-7.668</td>\n",
       "      <td>1</td>\n",
       "      <td>0.2930</td>\n",
       "      <td>0.217000</td>\n",
       "      <td>0.000000</td>\n",
       "      <td>0.1660</td>\n",
       "      <td>0.5910</td>\n",
       "      <td>...</td>\n",
       "      <td>4jCeguq9rMTlbMmPHuO7S3</td>\n",
       "      <td>spotify:track:4jCeguq9rMTlbMmPHuO7S3</td>\n",
       "      <td>https://api.spotify.com/v1/tracks/4jCeguq9rMTl...</td>\n",
       "      <td>https://api.spotify.com/v1/audio-analysis/4jCe...</td>\n",
       "      <td>123298</td>\n",
       "      <td>4</td>\n",
       "      <td>Dark Trap</td>\n",
       "      <td>Venom</td>\n",
       "      <td>NaN</td>\n",
       "      <td>NaN</td>\n",
       "    </tr>\n",
       "    <tr>\n",
       "      <th>...</th>\n",
       "      <td>...</td>\n",
       "      <td>...</td>\n",
       "      <td>...</td>\n",
       "      <td>...</td>\n",
       "      <td>...</td>\n",
       "      <td>...</td>\n",
       "      <td>...</td>\n",
       "      <td>...</td>\n",
       "      <td>...</td>\n",
       "      <td>...</td>\n",
       "      <td>...</td>\n",
       "      <td>...</td>\n",
       "      <td>...</td>\n",
       "      <td>...</td>\n",
       "      <td>...</td>\n",
       "      <td>...</td>\n",
       "      <td>...</td>\n",
       "      <td>...</td>\n",
       "      <td>...</td>\n",
       "      <td>...</td>\n",
       "      <td>...</td>\n",
       "    </tr>\n",
       "    <tr>\n",
       "      <th>42300</th>\n",
       "      <td>0.528</td>\n",
       "      <td>0.693</td>\n",
       "      <td>4</td>\n",
       "      <td>-5.148</td>\n",
       "      <td>1</td>\n",
       "      <td>0.0304</td>\n",
       "      <td>0.031500</td>\n",
       "      <td>0.000345</td>\n",
       "      <td>0.1210</td>\n",
       "      <td>0.3940</td>\n",
       "      <td>...</td>\n",
       "      <td>46bXU7Sgj7104ZoXxzz9tM</td>\n",
       "      <td>spotify:track:46bXU7Sgj7104ZoXxzz9tM</td>\n",
       "      <td>https://api.spotify.com/v1/tracks/46bXU7Sgj710...</td>\n",
       "      <td>https://api.spotify.com/v1/audio-analysis/46bX...</td>\n",
       "      <td>269208</td>\n",
       "      <td>4</td>\n",
       "      <td>hardstyle</td>\n",
       "      <td>NaN</td>\n",
       "      <td>20995.0</td>\n",
       "      <td>Euphoric Hardstyle</td>\n",
       "    </tr>\n",
       "    <tr>\n",
       "      <th>42301</th>\n",
       "      <td>0.517</td>\n",
       "      <td>0.768</td>\n",
       "      <td>0</td>\n",
       "      <td>-7.922</td>\n",
       "      <td>0</td>\n",
       "      <td>0.0479</td>\n",
       "      <td>0.022500</td>\n",
       "      <td>0.000018</td>\n",
       "      <td>0.2050</td>\n",
       "      <td>0.3830</td>\n",
       "      <td>...</td>\n",
       "      <td>0he2ViGMUO3ajKTxLOfWVT</td>\n",
       "      <td>spotify:track:0he2ViGMUO3ajKTxLOfWVT</td>\n",
       "      <td>https://api.spotify.com/v1/tracks/0he2ViGMUO3a...</td>\n",
       "      <td>https://api.spotify.com/v1/audio-analysis/0he2...</td>\n",
       "      <td>210112</td>\n",
       "      <td>4</td>\n",
       "      <td>hardstyle</td>\n",
       "      <td>NaN</td>\n",
       "      <td>20996.0</td>\n",
       "      <td>Greatest Hardstyle Playlist</td>\n",
       "    </tr>\n",
       "    <tr>\n",
       "      <th>42302</th>\n",
       "      <td>0.361</td>\n",
       "      <td>0.821</td>\n",
       "      <td>8</td>\n",
       "      <td>-3.102</td>\n",
       "      <td>1</td>\n",
       "      <td>0.0505</td>\n",
       "      <td>0.026000</td>\n",
       "      <td>0.000242</td>\n",
       "      <td>0.3850</td>\n",
       "      <td>0.1240</td>\n",
       "      <td>...</td>\n",
       "      <td>72DAt9Lbpy9EUS29OzQLob</td>\n",
       "      <td>spotify:track:72DAt9Lbpy9EUS29OzQLob</td>\n",
       "      <td>https://api.spotify.com/v1/tracks/72DAt9Lbpy9E...</td>\n",
       "      <td>https://api.spotify.com/v1/audio-analysis/72DA...</td>\n",
       "      <td>234823</td>\n",
       "      <td>4</td>\n",
       "      <td>hardstyle</td>\n",
       "      <td>NaN</td>\n",
       "      <td>20997.0</td>\n",
       "      <td>Best of Hardstyle 2020</td>\n",
       "    </tr>\n",
       "    <tr>\n",
       "      <th>42303</th>\n",
       "      <td>0.477</td>\n",
       "      <td>0.921</td>\n",
       "      <td>6</td>\n",
       "      <td>-4.777</td>\n",
       "      <td>0</td>\n",
       "      <td>0.0392</td>\n",
       "      <td>0.000551</td>\n",
       "      <td>0.029600</td>\n",
       "      <td>0.0575</td>\n",
       "      <td>0.4880</td>\n",
       "      <td>...</td>\n",
       "      <td>6HXgExFVuE1c3cq9QjFCcU</td>\n",
       "      <td>spotify:track:6HXgExFVuE1c3cq9QjFCcU</td>\n",
       "      <td>https://api.spotify.com/v1/tracks/6HXgExFVuE1c...</td>\n",
       "      <td>https://api.spotify.com/v1/audio-analysis/6HXg...</td>\n",
       "      <td>323200</td>\n",
       "      <td>4</td>\n",
       "      <td>hardstyle</td>\n",
       "      <td>NaN</td>\n",
       "      <td>20998.0</td>\n",
       "      <td>Euphoric Hardstyle</td>\n",
       "    </tr>\n",
       "    <tr>\n",
       "      <th>42304</th>\n",
       "      <td>0.529</td>\n",
       "      <td>0.945</td>\n",
       "      <td>9</td>\n",
       "      <td>-5.862</td>\n",
       "      <td>1</td>\n",
       "      <td>0.0615</td>\n",
       "      <td>0.001890</td>\n",
       "      <td>0.000055</td>\n",
       "      <td>0.4140</td>\n",
       "      <td>0.1340</td>\n",
       "      <td>...</td>\n",
       "      <td>6MAAMZImxcvYhRnxDLTufD</td>\n",
       "      <td>spotify:track:6MAAMZImxcvYhRnxDLTufD</td>\n",
       "      <td>https://api.spotify.com/v1/tracks/6MAAMZImxcvY...</td>\n",
       "      <td>https://api.spotify.com/v1/audio-analysis/6MAA...</td>\n",
       "      <td>162161</td>\n",
       "      <td>4</td>\n",
       "      <td>hardstyle</td>\n",
       "      <td>NaN</td>\n",
       "      <td>20999.0</td>\n",
       "      <td>Best of Hardstyle 2020</td>\n",
       "    </tr>\n",
       "  </tbody>\n",
       "</table>\n",
       "<p>42305 rows × 22 columns</p>\n",
       "</div>"
      ],
      "text/plain": [
       "       danceability  energy  key  loudness  mode  speechiness  acousticness  \\\n",
       "0             0.831   0.814    2    -7.364     1       0.4200      0.059800   \n",
       "1             0.719   0.493    8    -7.230     1       0.0794      0.401000   \n",
       "2             0.850   0.893    5    -4.783     1       0.0623      0.013800   \n",
       "3             0.476   0.781    0    -4.710     1       0.1030      0.023700   \n",
       "4             0.798   0.624    2    -7.668     1       0.2930      0.217000   \n",
       "...             ...     ...  ...       ...   ...          ...           ...   \n",
       "42300         0.528   0.693    4    -5.148     1       0.0304      0.031500   \n",
       "42301         0.517   0.768    0    -7.922     0       0.0479      0.022500   \n",
       "42302         0.361   0.821    8    -3.102     1       0.0505      0.026000   \n",
       "42303         0.477   0.921    6    -4.777     0       0.0392      0.000551   \n",
       "42304         0.529   0.945    9    -5.862     1       0.0615      0.001890   \n",
       "\n",
       "       instrumentalness  liveness  valence  ...                      id  \\\n",
       "0              0.013400    0.0556   0.3890  ...  2Vc6NJ9PW9gD9q343XFRKx   \n",
       "1              0.000000    0.1180   0.1240  ...  7pgJBLVz5VmnL7uGHmRj6p   \n",
       "2              0.000004    0.3720   0.0391  ...  0vSWgAlfpye0WCGeNmuNhy   \n",
       "3              0.000000    0.1140   0.1750  ...  0VSXnJqQkwuH2ei1nOQ1nu   \n",
       "4              0.000000    0.1660   0.5910  ...  4jCeguq9rMTlbMmPHuO7S3   \n",
       "...                 ...       ...      ...  ...                     ...   \n",
       "42300          0.000345    0.1210   0.3940  ...  46bXU7Sgj7104ZoXxzz9tM   \n",
       "42301          0.000018    0.2050   0.3830  ...  0he2ViGMUO3ajKTxLOfWVT   \n",
       "42302          0.000242    0.3850   0.1240  ...  72DAt9Lbpy9EUS29OzQLob   \n",
       "42303          0.029600    0.0575   0.4880  ...  6HXgExFVuE1c3cq9QjFCcU   \n",
       "42304          0.000055    0.4140   0.1340  ...  6MAAMZImxcvYhRnxDLTufD   \n",
       "\n",
       "                                        uri  \\\n",
       "0      spotify:track:2Vc6NJ9PW9gD9q343XFRKx   \n",
       "1      spotify:track:7pgJBLVz5VmnL7uGHmRj6p   \n",
       "2      spotify:track:0vSWgAlfpye0WCGeNmuNhy   \n",
       "3      spotify:track:0VSXnJqQkwuH2ei1nOQ1nu   \n",
       "4      spotify:track:4jCeguq9rMTlbMmPHuO7S3   \n",
       "...                                     ...   \n",
       "42300  spotify:track:46bXU7Sgj7104ZoXxzz9tM   \n",
       "42301  spotify:track:0he2ViGMUO3ajKTxLOfWVT   \n",
       "42302  spotify:track:72DAt9Lbpy9EUS29OzQLob   \n",
       "42303  spotify:track:6HXgExFVuE1c3cq9QjFCcU   \n",
       "42304  spotify:track:6MAAMZImxcvYhRnxDLTufD   \n",
       "\n",
       "                                              track_href  \\\n",
       "0      https://api.spotify.com/v1/tracks/2Vc6NJ9PW9gD...   \n",
       "1      https://api.spotify.com/v1/tracks/7pgJBLVz5Vmn...   \n",
       "2      https://api.spotify.com/v1/tracks/0vSWgAlfpye0...   \n",
       "3      https://api.spotify.com/v1/tracks/0VSXnJqQkwuH...   \n",
       "4      https://api.spotify.com/v1/tracks/4jCeguq9rMTl...   \n",
       "...                                                  ...   \n",
       "42300  https://api.spotify.com/v1/tracks/46bXU7Sgj710...   \n",
       "42301  https://api.spotify.com/v1/tracks/0he2ViGMUO3a...   \n",
       "42302  https://api.spotify.com/v1/tracks/72DAt9Lbpy9E...   \n",
       "42303  https://api.spotify.com/v1/tracks/6HXgExFVuE1c...   \n",
       "42304  https://api.spotify.com/v1/tracks/6MAAMZImxcvY...   \n",
       "\n",
       "                                            analysis_url duration_ms  \\\n",
       "0      https://api.spotify.com/v1/audio-analysis/2Vc6...      124539   \n",
       "1      https://api.spotify.com/v1/audio-analysis/7pgJ...      224427   \n",
       "2      https://api.spotify.com/v1/audio-analysis/0vSW...       98821   \n",
       "3      https://api.spotify.com/v1/audio-analysis/0VSX...      123661   \n",
       "4      https://api.spotify.com/v1/audio-analysis/4jCe...      123298   \n",
       "...                                                  ...         ...   \n",
       "42300  https://api.spotify.com/v1/audio-analysis/46bX...      269208   \n",
       "42301  https://api.spotify.com/v1/audio-analysis/0he2...      210112   \n",
       "42302  https://api.spotify.com/v1/audio-analysis/72DA...      234823   \n",
       "42303  https://api.spotify.com/v1/audio-analysis/6HXg...      323200   \n",
       "42304  https://api.spotify.com/v1/audio-analysis/6MAA...      162161   \n",
       "\n",
       "      time_signature      genre  \\\n",
       "0                  4  Dark Trap   \n",
       "1                  4  Dark Trap   \n",
       "2                  4  Dark Trap   \n",
       "3                  3  Dark Trap   \n",
       "4                  4  Dark Trap   \n",
       "...              ...        ...   \n",
       "42300              4  hardstyle   \n",
       "42301              4  hardstyle   \n",
       "42302              4  hardstyle   \n",
       "42303              4  hardstyle   \n",
       "42304              4  hardstyle   \n",
       "\n",
       "                                           song_name Unnamed: 0  \\\n",
       "0                                Mercury: Retrograde        NaN   \n",
       "1                                          Pathology        NaN   \n",
       "2                                           Symbiote        NaN   \n",
       "3      ProductOfDrugs (Prod. The Virus and Antidote)        NaN   \n",
       "4                                              Venom        NaN   \n",
       "...                                              ...        ...   \n",
       "42300                                            NaN    20995.0   \n",
       "42301                                            NaN    20996.0   \n",
       "42302                                            NaN    20997.0   \n",
       "42303                                            NaN    20998.0   \n",
       "42304                                            NaN    20999.0   \n",
       "\n",
       "                             title  \n",
       "0                              NaN  \n",
       "1                              NaN  \n",
       "2                              NaN  \n",
       "3                              NaN  \n",
       "4                              NaN  \n",
       "...                            ...  \n",
       "42300           Euphoric Hardstyle  \n",
       "42301  Greatest Hardstyle Playlist  \n",
       "42302       Best of Hardstyle 2020  \n",
       "42303           Euphoric Hardstyle  \n",
       "42304       Best of Hardstyle 2020  \n",
       "\n",
       "[42305 rows x 22 columns]"
      ]
     },
     "execution_count": 4,
     "metadata": {},
     "output_type": "execute_result"
    }
   ],
   "source": [
    "df"
   ]
  },
  {
   "cell_type": "code",
   "execution_count": 5,
   "id": "2e4993a8",
   "metadata": {},
   "outputs": [
    {
     "data": {
      "text/html": [
       "<div>\n",
       "<style scoped>\n",
       "    .dataframe tbody tr th:only-of-type {\n",
       "        vertical-align: middle;\n",
       "    }\n",
       "\n",
       "    .dataframe tbody tr th {\n",
       "        vertical-align: top;\n",
       "    }\n",
       "\n",
       "    .dataframe thead th {\n",
       "        text-align: right;\n",
       "    }\n",
       "</style>\n",
       "<table border=\"1\" class=\"dataframe\">\n",
       "  <thead>\n",
       "    <tr style=\"text-align: right;\">\n",
       "      <th></th>\n",
       "      <th>danceability</th>\n",
       "      <th>energy</th>\n",
       "      <th>key</th>\n",
       "      <th>loudness</th>\n",
       "      <th>mode</th>\n",
       "      <th>speechiness</th>\n",
       "      <th>acousticness</th>\n",
       "      <th>instrumentalness</th>\n",
       "      <th>liveness</th>\n",
       "      <th>valence</th>\n",
       "      <th>...</th>\n",
       "      <th>id</th>\n",
       "      <th>uri</th>\n",
       "      <th>track_href</th>\n",
       "      <th>analysis_url</th>\n",
       "      <th>duration_ms</th>\n",
       "      <th>time_signature</th>\n",
       "      <th>genre</th>\n",
       "      <th>song_name</th>\n",
       "      <th>Unnamed: 0</th>\n",
       "      <th>title</th>\n",
       "    </tr>\n",
       "  </thead>\n",
       "  <tbody>\n",
       "    <tr>\n",
       "      <th>0</th>\n",
       "      <td>0.831</td>\n",
       "      <td>0.814</td>\n",
       "      <td>2</td>\n",
       "      <td>-7.364</td>\n",
       "      <td>1</td>\n",
       "      <td>0.4200</td>\n",
       "      <td>0.0598</td>\n",
       "      <td>0.013400</td>\n",
       "      <td>0.0556</td>\n",
       "      <td>0.3890</td>\n",
       "      <td>...</td>\n",
       "      <td>2Vc6NJ9PW9gD9q343XFRKx</td>\n",
       "      <td>spotify:track:2Vc6NJ9PW9gD9q343XFRKx</td>\n",
       "      <td>https://api.spotify.com/v1/tracks/2Vc6NJ9PW9gD...</td>\n",
       "      <td>https://api.spotify.com/v1/audio-analysis/2Vc6...</td>\n",
       "      <td>124539</td>\n",
       "      <td>4</td>\n",
       "      <td>Dark Trap</td>\n",
       "      <td>Mercury: Retrograde</td>\n",
       "      <td>NaN</td>\n",
       "      <td>NaN</td>\n",
       "    </tr>\n",
       "    <tr>\n",
       "      <th>1</th>\n",
       "      <td>0.719</td>\n",
       "      <td>0.493</td>\n",
       "      <td>8</td>\n",
       "      <td>-7.230</td>\n",
       "      <td>1</td>\n",
       "      <td>0.0794</td>\n",
       "      <td>0.4010</td>\n",
       "      <td>0.000000</td>\n",
       "      <td>0.1180</td>\n",
       "      <td>0.1240</td>\n",
       "      <td>...</td>\n",
       "      <td>7pgJBLVz5VmnL7uGHmRj6p</td>\n",
       "      <td>spotify:track:7pgJBLVz5VmnL7uGHmRj6p</td>\n",
       "      <td>https://api.spotify.com/v1/tracks/7pgJBLVz5Vmn...</td>\n",
       "      <td>https://api.spotify.com/v1/audio-analysis/7pgJ...</td>\n",
       "      <td>224427</td>\n",
       "      <td>4</td>\n",
       "      <td>Dark Trap</td>\n",
       "      <td>Pathology</td>\n",
       "      <td>NaN</td>\n",
       "      <td>NaN</td>\n",
       "    </tr>\n",
       "    <tr>\n",
       "      <th>2</th>\n",
       "      <td>0.850</td>\n",
       "      <td>0.893</td>\n",
       "      <td>5</td>\n",
       "      <td>-4.783</td>\n",
       "      <td>1</td>\n",
       "      <td>0.0623</td>\n",
       "      <td>0.0138</td>\n",
       "      <td>0.000004</td>\n",
       "      <td>0.3720</td>\n",
       "      <td>0.0391</td>\n",
       "      <td>...</td>\n",
       "      <td>0vSWgAlfpye0WCGeNmuNhy</td>\n",
       "      <td>spotify:track:0vSWgAlfpye0WCGeNmuNhy</td>\n",
       "      <td>https://api.spotify.com/v1/tracks/0vSWgAlfpye0...</td>\n",
       "      <td>https://api.spotify.com/v1/audio-analysis/0vSW...</td>\n",
       "      <td>98821</td>\n",
       "      <td>4</td>\n",
       "      <td>Dark Trap</td>\n",
       "      <td>Symbiote</td>\n",
       "      <td>NaN</td>\n",
       "      <td>NaN</td>\n",
       "    </tr>\n",
       "    <tr>\n",
       "      <th>3</th>\n",
       "      <td>0.476</td>\n",
       "      <td>0.781</td>\n",
       "      <td>0</td>\n",
       "      <td>-4.710</td>\n",
       "      <td>1</td>\n",
       "      <td>0.1030</td>\n",
       "      <td>0.0237</td>\n",
       "      <td>0.000000</td>\n",
       "      <td>0.1140</td>\n",
       "      <td>0.1750</td>\n",
       "      <td>...</td>\n",
       "      <td>0VSXnJqQkwuH2ei1nOQ1nu</td>\n",
       "      <td>spotify:track:0VSXnJqQkwuH2ei1nOQ1nu</td>\n",
       "      <td>https://api.spotify.com/v1/tracks/0VSXnJqQkwuH...</td>\n",
       "      <td>https://api.spotify.com/v1/audio-analysis/0VSX...</td>\n",
       "      <td>123661</td>\n",
       "      <td>3</td>\n",
       "      <td>Dark Trap</td>\n",
       "      <td>ProductOfDrugs (Prod. The Virus and Antidote)</td>\n",
       "      <td>NaN</td>\n",
       "      <td>NaN</td>\n",
       "    </tr>\n",
       "    <tr>\n",
       "      <th>4</th>\n",
       "      <td>0.798</td>\n",
       "      <td>0.624</td>\n",
       "      <td>2</td>\n",
       "      <td>-7.668</td>\n",
       "      <td>1</td>\n",
       "      <td>0.2930</td>\n",
       "      <td>0.2170</td>\n",
       "      <td>0.000000</td>\n",
       "      <td>0.1660</td>\n",
       "      <td>0.5910</td>\n",
       "      <td>...</td>\n",
       "      <td>4jCeguq9rMTlbMmPHuO7S3</td>\n",
       "      <td>spotify:track:4jCeguq9rMTlbMmPHuO7S3</td>\n",
       "      <td>https://api.spotify.com/v1/tracks/4jCeguq9rMTl...</td>\n",
       "      <td>https://api.spotify.com/v1/audio-analysis/4jCe...</td>\n",
       "      <td>123298</td>\n",
       "      <td>4</td>\n",
       "      <td>Dark Trap</td>\n",
       "      <td>Venom</td>\n",
       "      <td>NaN</td>\n",
       "      <td>NaN</td>\n",
       "    </tr>\n",
       "  </tbody>\n",
       "</table>\n",
       "<p>5 rows × 22 columns</p>\n",
       "</div>"
      ],
      "text/plain": [
       "   danceability  energy  key  loudness  mode  speechiness  acousticness  \\\n",
       "0         0.831   0.814    2    -7.364     1       0.4200        0.0598   \n",
       "1         0.719   0.493    8    -7.230     1       0.0794        0.4010   \n",
       "2         0.850   0.893    5    -4.783     1       0.0623        0.0138   \n",
       "3         0.476   0.781    0    -4.710     1       0.1030        0.0237   \n",
       "4         0.798   0.624    2    -7.668     1       0.2930        0.2170   \n",
       "\n",
       "   instrumentalness  liveness  valence  ...                      id  \\\n",
       "0          0.013400    0.0556   0.3890  ...  2Vc6NJ9PW9gD9q343XFRKx   \n",
       "1          0.000000    0.1180   0.1240  ...  7pgJBLVz5VmnL7uGHmRj6p   \n",
       "2          0.000004    0.3720   0.0391  ...  0vSWgAlfpye0WCGeNmuNhy   \n",
       "3          0.000000    0.1140   0.1750  ...  0VSXnJqQkwuH2ei1nOQ1nu   \n",
       "4          0.000000    0.1660   0.5910  ...  4jCeguq9rMTlbMmPHuO7S3   \n",
       "\n",
       "                                    uri  \\\n",
       "0  spotify:track:2Vc6NJ9PW9gD9q343XFRKx   \n",
       "1  spotify:track:7pgJBLVz5VmnL7uGHmRj6p   \n",
       "2  spotify:track:0vSWgAlfpye0WCGeNmuNhy   \n",
       "3  spotify:track:0VSXnJqQkwuH2ei1nOQ1nu   \n",
       "4  spotify:track:4jCeguq9rMTlbMmPHuO7S3   \n",
       "\n",
       "                                          track_href  \\\n",
       "0  https://api.spotify.com/v1/tracks/2Vc6NJ9PW9gD...   \n",
       "1  https://api.spotify.com/v1/tracks/7pgJBLVz5Vmn...   \n",
       "2  https://api.spotify.com/v1/tracks/0vSWgAlfpye0...   \n",
       "3  https://api.spotify.com/v1/tracks/0VSXnJqQkwuH...   \n",
       "4  https://api.spotify.com/v1/tracks/4jCeguq9rMTl...   \n",
       "\n",
       "                                        analysis_url duration_ms  \\\n",
       "0  https://api.spotify.com/v1/audio-analysis/2Vc6...      124539   \n",
       "1  https://api.spotify.com/v1/audio-analysis/7pgJ...      224427   \n",
       "2  https://api.spotify.com/v1/audio-analysis/0vSW...       98821   \n",
       "3  https://api.spotify.com/v1/audio-analysis/0VSX...      123661   \n",
       "4  https://api.spotify.com/v1/audio-analysis/4jCe...      123298   \n",
       "\n",
       "  time_signature      genre                                      song_name  \\\n",
       "0              4  Dark Trap                            Mercury: Retrograde   \n",
       "1              4  Dark Trap                                      Pathology   \n",
       "2              4  Dark Trap                                       Symbiote   \n",
       "3              3  Dark Trap  ProductOfDrugs (Prod. The Virus and Antidote)   \n",
       "4              4  Dark Trap                                          Venom   \n",
       "\n",
       "  Unnamed: 0 title  \n",
       "0        NaN   NaN  \n",
       "1        NaN   NaN  \n",
       "2        NaN   NaN  \n",
       "3        NaN   NaN  \n",
       "4        NaN   NaN  \n",
       "\n",
       "[5 rows x 22 columns]"
      ]
     },
     "execution_count": 5,
     "metadata": {},
     "output_type": "execute_result"
    }
   ],
   "source": [
    "df.head()"
   ]
  },
  {
   "cell_type": "code",
   "execution_count": 6,
   "id": "f7f1a93f",
   "metadata": {},
   "outputs": [
    {
     "data": {
      "text/plain": [
       "1    23245\n",
       "0    19060\n",
       "Name: mode, dtype: int64"
      ]
     },
     "execution_count": 6,
     "metadata": {},
     "output_type": "execute_result"
    }
   ],
   "source": [
    "df['mode'].value_counts()"
   ]
  },
  {
   "cell_type": "code",
   "execution_count": 7,
   "id": "e3a70a3a",
   "metadata": {},
   "outputs": [],
   "source": [
    "df.drop(['song_name','Unnamed: 0','title'],axis=1,inplace=True)"
   ]
  },
  {
   "cell_type": "code",
   "execution_count": 8,
   "id": "2cd4e323",
   "metadata": {},
   "outputs": [
    {
     "data": {
      "text/plain": [
       "array(['Dark Trap', 'Underground Rap', 'Trap Metal', 'Emo', 'Rap', 'RnB',\n",
       "       'Pop', 'Hiphop', 'techhouse', 'techno', 'trance', 'psytrance',\n",
       "       'trap', 'dnb', 'hardstyle'], dtype=object)"
      ]
     },
     "execution_count": 8,
     "metadata": {},
     "output_type": "execute_result"
    }
   ],
   "source": [
    "df['genre'].unique()"
   ]
  },
  {
   "cell_type": "code",
   "execution_count": 9,
   "id": "fa85f054",
   "metadata": {},
   "outputs": [
    {
     "data": {
      "text/html": [
       "<div>\n",
       "<style scoped>\n",
       "    .dataframe tbody tr th:only-of-type {\n",
       "        vertical-align: middle;\n",
       "    }\n",
       "\n",
       "    .dataframe tbody tr th {\n",
       "        vertical-align: top;\n",
       "    }\n",
       "\n",
       "    .dataframe thead th {\n",
       "        text-align: right;\n",
       "    }\n",
       "</style>\n",
       "<table border=\"1\" class=\"dataframe\">\n",
       "  <thead>\n",
       "    <tr style=\"text-align: right;\">\n",
       "      <th></th>\n",
       "      <th>danceability</th>\n",
       "      <th>energy</th>\n",
       "      <th>key</th>\n",
       "      <th>loudness</th>\n",
       "      <th>mode</th>\n",
       "      <th>speechiness</th>\n",
       "      <th>acousticness</th>\n",
       "      <th>instrumentalness</th>\n",
       "      <th>liveness</th>\n",
       "      <th>valence</th>\n",
       "      <th>tempo</th>\n",
       "      <th>duration_ms</th>\n",
       "      <th>time_signature</th>\n",
       "    </tr>\n",
       "  </thead>\n",
       "  <tbody>\n",
       "    <tr>\n",
       "      <th>count</th>\n",
       "      <td>42305.000000</td>\n",
       "      <td>42305.000000</td>\n",
       "      <td>42305.000000</td>\n",
       "      <td>42305.000000</td>\n",
       "      <td>42305.000000</td>\n",
       "      <td>42305.000000</td>\n",
       "      <td>42305.000000</td>\n",
       "      <td>42305.000000</td>\n",
       "      <td>42305.000000</td>\n",
       "      <td>42305.000000</td>\n",
       "      <td>42305.000000</td>\n",
       "      <td>42305.000000</td>\n",
       "      <td>42305.000000</td>\n",
       "    </tr>\n",
       "    <tr>\n",
       "      <th>mean</th>\n",
       "      <td>0.639364</td>\n",
       "      <td>0.762516</td>\n",
       "      <td>5.370240</td>\n",
       "      <td>-6.465442</td>\n",
       "      <td>0.549462</td>\n",
       "      <td>0.136561</td>\n",
       "      <td>0.096160</td>\n",
       "      <td>0.283048</td>\n",
       "      <td>0.214079</td>\n",
       "      <td>0.357101</td>\n",
       "      <td>147.474056</td>\n",
       "      <td>250865.846685</td>\n",
       "      <td>3.972580</td>\n",
       "    </tr>\n",
       "    <tr>\n",
       "      <th>std</th>\n",
       "      <td>0.156617</td>\n",
       "      <td>0.183823</td>\n",
       "      <td>3.666145</td>\n",
       "      <td>2.941165</td>\n",
       "      <td>0.497553</td>\n",
       "      <td>0.126168</td>\n",
       "      <td>0.170827</td>\n",
       "      <td>0.370791</td>\n",
       "      <td>0.175576</td>\n",
       "      <td>0.233200</td>\n",
       "      <td>23.844623</td>\n",
       "      <td>102957.713571</td>\n",
       "      <td>0.268342</td>\n",
       "    </tr>\n",
       "    <tr>\n",
       "      <th>min</th>\n",
       "      <td>0.065100</td>\n",
       "      <td>0.000243</td>\n",
       "      <td>0.000000</td>\n",
       "      <td>-33.357000</td>\n",
       "      <td>0.000000</td>\n",
       "      <td>0.022700</td>\n",
       "      <td>0.000001</td>\n",
       "      <td>0.000000</td>\n",
       "      <td>0.010700</td>\n",
       "      <td>0.018700</td>\n",
       "      <td>57.967000</td>\n",
       "      <td>25600.000000</td>\n",
       "      <td>1.000000</td>\n",
       "    </tr>\n",
       "    <tr>\n",
       "      <th>25%</th>\n",
       "      <td>0.524000</td>\n",
       "      <td>0.632000</td>\n",
       "      <td>1.000000</td>\n",
       "      <td>-8.161000</td>\n",
       "      <td>0.000000</td>\n",
       "      <td>0.049100</td>\n",
       "      <td>0.001730</td>\n",
       "      <td>0.000000</td>\n",
       "      <td>0.099600</td>\n",
       "      <td>0.161000</td>\n",
       "      <td>129.931000</td>\n",
       "      <td>179840.000000</td>\n",
       "      <td>4.000000</td>\n",
       "    </tr>\n",
       "    <tr>\n",
       "      <th>50%</th>\n",
       "      <td>0.646000</td>\n",
       "      <td>0.803000</td>\n",
       "      <td>6.000000</td>\n",
       "      <td>-6.234000</td>\n",
       "      <td>1.000000</td>\n",
       "      <td>0.075500</td>\n",
       "      <td>0.016400</td>\n",
       "      <td>0.005940</td>\n",
       "      <td>0.135000</td>\n",
       "      <td>0.322000</td>\n",
       "      <td>144.973000</td>\n",
       "      <td>224760.000000</td>\n",
       "      <td>4.000000</td>\n",
       "    </tr>\n",
       "    <tr>\n",
       "      <th>75%</th>\n",
       "      <td>0.766000</td>\n",
       "      <td>0.923000</td>\n",
       "      <td>9.000000</td>\n",
       "      <td>-4.513000</td>\n",
       "      <td>1.000000</td>\n",
       "      <td>0.193000</td>\n",
       "      <td>0.107000</td>\n",
       "      <td>0.722000</td>\n",
       "      <td>0.294000</td>\n",
       "      <td>0.522000</td>\n",
       "      <td>161.464000</td>\n",
       "      <td>301133.000000</td>\n",
       "      <td>4.000000</td>\n",
       "    </tr>\n",
       "    <tr>\n",
       "      <th>max</th>\n",
       "      <td>0.988000</td>\n",
       "      <td>1.000000</td>\n",
       "      <td>11.000000</td>\n",
       "      <td>3.148000</td>\n",
       "      <td>1.000000</td>\n",
       "      <td>0.946000</td>\n",
       "      <td>0.988000</td>\n",
       "      <td>0.989000</td>\n",
       "      <td>0.988000</td>\n",
       "      <td>0.988000</td>\n",
       "      <td>220.290000</td>\n",
       "      <td>913052.000000</td>\n",
       "      <td>5.000000</td>\n",
       "    </tr>\n",
       "  </tbody>\n",
       "</table>\n",
       "</div>"
      ],
      "text/plain": [
       "       danceability        energy           key      loudness          mode  \\\n",
       "count  42305.000000  42305.000000  42305.000000  42305.000000  42305.000000   \n",
       "mean       0.639364      0.762516      5.370240     -6.465442      0.549462   \n",
       "std        0.156617      0.183823      3.666145      2.941165      0.497553   \n",
       "min        0.065100      0.000243      0.000000    -33.357000      0.000000   \n",
       "25%        0.524000      0.632000      1.000000     -8.161000      0.000000   \n",
       "50%        0.646000      0.803000      6.000000     -6.234000      1.000000   \n",
       "75%        0.766000      0.923000      9.000000     -4.513000      1.000000   \n",
       "max        0.988000      1.000000     11.000000      3.148000      1.000000   \n",
       "\n",
       "        speechiness  acousticness  instrumentalness      liveness  \\\n",
       "count  42305.000000  42305.000000      42305.000000  42305.000000   \n",
       "mean       0.136561      0.096160          0.283048      0.214079   \n",
       "std        0.126168      0.170827          0.370791      0.175576   \n",
       "min        0.022700      0.000001          0.000000      0.010700   \n",
       "25%        0.049100      0.001730          0.000000      0.099600   \n",
       "50%        0.075500      0.016400          0.005940      0.135000   \n",
       "75%        0.193000      0.107000          0.722000      0.294000   \n",
       "max        0.946000      0.988000          0.989000      0.988000   \n",
       "\n",
       "            valence         tempo    duration_ms  time_signature  \n",
       "count  42305.000000  42305.000000   42305.000000    42305.000000  \n",
       "mean       0.357101    147.474056  250865.846685        3.972580  \n",
       "std        0.233200     23.844623  102957.713571        0.268342  \n",
       "min        0.018700     57.967000   25600.000000        1.000000  \n",
       "25%        0.161000    129.931000  179840.000000        4.000000  \n",
       "50%        0.322000    144.973000  224760.000000        4.000000  \n",
       "75%        0.522000    161.464000  301133.000000        4.000000  \n",
       "max        0.988000    220.290000  913052.000000        5.000000  "
      ]
     },
     "execution_count": 9,
     "metadata": {},
     "output_type": "execute_result"
    }
   ],
   "source": [
    "df.describe()"
   ]
  },
  {
   "cell_type": "code",
   "execution_count": null,
   "id": "44b38677",
   "metadata": {},
   "outputs": [],
   "source": []
  },
  {
   "cell_type": "code",
   "execution_count": 10,
   "id": "77c723a8",
   "metadata": {},
   "outputs": [
    {
     "data": {
      "text/plain": [
       "danceability        0\n",
       "energy              0\n",
       "key                 0\n",
       "loudness            0\n",
       "mode                0\n",
       "speechiness         0\n",
       "acousticness        0\n",
       "instrumentalness    0\n",
       "liveness            0\n",
       "valence             0\n",
       "tempo               0\n",
       "type                0\n",
       "id                  0\n",
       "uri                 0\n",
       "track_href          0\n",
       "analysis_url        0\n",
       "duration_ms         0\n",
       "time_signature      0\n",
       "genre               0\n",
       "dtype: int64"
      ]
     },
     "execution_count": 10,
     "metadata": {},
     "output_type": "execute_result"
    }
   ],
   "source": [
    "df.isna().sum()"
   ]
  },
  {
   "cell_type": "code",
   "execution_count": 11,
   "id": "39d194be",
   "metadata": {},
   "outputs": [
    {
     "data": {
      "text/plain": [
       "danceability        float64\n",
       "energy              float64\n",
       "key                   int64\n",
       "loudness            float64\n",
       "mode                  int64\n",
       "speechiness         float64\n",
       "acousticness        float64\n",
       "instrumentalness    float64\n",
       "liveness            float64\n",
       "valence             float64\n",
       "tempo               float64\n",
       "type                 object\n",
       "id                   object\n",
       "uri                  object\n",
       "track_href           object\n",
       "analysis_url         object\n",
       "duration_ms           int64\n",
       "time_signature        int64\n",
       "genre                object\n",
       "dtype: object"
      ]
     },
     "execution_count": 11,
     "metadata": {},
     "output_type": "execute_result"
    }
   ],
   "source": [
    "df.dtypes"
   ]
  },
  {
   "cell_type": "code",
   "execution_count": 12,
   "id": "958a79f9",
   "metadata": {},
   "outputs": [
    {
     "name": "stdout",
     "output_type": "stream",
     "text": [
      "<class 'pandas.core.frame.DataFrame'>\n",
      "RangeIndex: 42305 entries, 0 to 42304\n",
      "Data columns (total 19 columns):\n",
      " #   Column            Non-Null Count  Dtype  \n",
      "---  ------            --------------  -----  \n",
      " 0   danceability      42305 non-null  float64\n",
      " 1   energy            42305 non-null  float64\n",
      " 2   key               42305 non-null  int64  \n",
      " 3   loudness          42305 non-null  float64\n",
      " 4   mode              42305 non-null  int64  \n",
      " 5   speechiness       42305 non-null  float64\n",
      " 6   acousticness      42305 non-null  float64\n",
      " 7   instrumentalness  42305 non-null  float64\n",
      " 8   liveness          42305 non-null  float64\n",
      " 9   valence           42305 non-null  float64\n",
      " 10  tempo             42305 non-null  float64\n",
      " 11  type              42305 non-null  object \n",
      " 12  id                42305 non-null  object \n",
      " 13  uri               42305 non-null  object \n",
      " 14  track_href        42305 non-null  object \n",
      " 15  analysis_url      42305 non-null  object \n",
      " 16  duration_ms       42305 non-null  int64  \n",
      " 17  time_signature    42305 non-null  int64  \n",
      " 18  genre             42305 non-null  object \n",
      "dtypes: float64(9), int64(4), object(6)\n",
      "memory usage: 6.1+ MB\n"
     ]
    }
   ],
   "source": [
    "df.info()"
   ]
  },
  {
   "cell_type": "code",
   "execution_count": 13,
   "id": "d732a443",
   "metadata": {},
   "outputs": [
    {
     "data": {
      "text/plain": [
       "Underground Rap    5875\n",
       "Dark Trap          4578\n",
       "Hiphop             3028\n",
       "trance             2999\n",
       "trap               2987\n",
       "techhouse          2975\n",
       "dnb                2966\n",
       "psytrance          2961\n",
       "techno             2956\n",
       "hardstyle          2936\n",
       "RnB                2099\n",
       "Trap Metal         1956\n",
       "Rap                1848\n",
       "Emo                1680\n",
       "Pop                 461\n",
       "Name: genre, dtype: int64"
      ]
     },
     "execution_count": 13,
     "metadata": {},
     "output_type": "execute_result"
    }
   ],
   "source": [
    "df['genre'].value_counts()"
   ]
  },
  {
   "cell_type": "code",
   "execution_count": 14,
   "id": "3126bffb",
   "metadata": {},
   "outputs": [
    {
     "data": {
      "text/plain": [
       "<AxesSubplot:xlabel='mode', ylabel='count'>"
      ]
     },
     "execution_count": 14,
     "metadata": {},
     "output_type": "execute_result"
    },
    {
     "data": {
      "image/png": "[encoded data removed]",
      "text/plain": [
       "<Figure size 432x288 with 1 Axes>"
      ]
     },
     "metadata": {
      "needs_background": "light"
     },
     "output_type": "display_data"
    }
   ],
   "source": [
    "sns.countplot(x=\"mode\", data=df)"
   ]
  },
  {
   "cell_type": "code",
   "execution_count": 15,
   "id": "61e553d3",
   "metadata": {
    "scrolled": true
   },
   "outputs": [
    {
     "data": {
      "text/plain": [
       "<seaborn.axisgrid.FacetGrid at 0x1f0128702e0>"
      ]
     },
     "execution_count": 15,
     "metadata": {},
     "output_type": "execute_result"
    },
    {
     "data": {
      "text/plain": [
       "Text(0.5, 1.0, 'Number of types of genres ')"
      ]
     },
     "execution_count": 15,
     "metadata": {},
     "output_type": "execute_result"
    },
    {
     "data": {
      "image/png": "[encoded data removed]",
      "text/plain": [
       "<Figure size 360x360 with 1 Axes>"
      ]
     },
     "metadata": {
      "needs_background": "light"
     },
     "output_type": "display_data"
    }
   ],
   "source": [
    "sns.catplot(x=\"genre\", y=\"time_signature\", data=df)\n",
    "plt.title(\"Number of types of genres \")"
   ]
  },
  {
   "cell_type": "code",
   "execution_count": 16,
   "id": "318575ea",
   "metadata": {},
   "outputs": [],
   "source": [
    "cat_columns=['mode']\n",
    "num_columns=['energy','key','danceability','loudness','speechiness','acousticness','instrumentalness','liveness','valence','tempo']"
   ]
  },
  {
   "cell_type": "code",
   "execution_count": 17,
   "id": "4bb6a5ef",
   "metadata": {},
   "outputs": [
    {
     "data": {
      "text/html": [
       "<div>\n",
       "<style scoped>\n",
       "    .dataframe tbody tr th:only-of-type {\n",
       "        vertical-align: middle;\n",
       "    }\n",
       "\n",
       "    .dataframe tbody tr th {\n",
       "        vertical-align: top;\n",
       "    }\n",
       "\n",
       "    .dataframe thead th {\n",
       "        text-align: right;\n",
       "    }\n",
       "</style>\n",
       "<table border=\"1\" class=\"dataframe\">\n",
       "  <thead>\n",
       "    <tr style=\"text-align: right;\">\n",
       "      <th></th>\n",
       "      <th>energy</th>\n",
       "      <th>key</th>\n",
       "      <th>danceability</th>\n",
       "      <th>loudness</th>\n",
       "      <th>speechiness</th>\n",
       "      <th>acousticness</th>\n",
       "      <th>instrumentalness</th>\n",
       "      <th>liveness</th>\n",
       "      <th>valence</th>\n",
       "      <th>tempo</th>\n",
       "    </tr>\n",
       "  </thead>\n",
       "  <tbody>\n",
       "    <tr>\n",
       "      <th>0</th>\n",
       "      <td>0.814</td>\n",
       "      <td>2</td>\n",
       "      <td>0.831</td>\n",
       "      <td>-7.364</td>\n",
       "      <td>0.4200</td>\n",
       "      <td>0.0598</td>\n",
       "      <td>0.013400</td>\n",
       "      <td>0.0556</td>\n",
       "      <td>0.3890</td>\n",
       "      <td>156.985</td>\n",
       "    </tr>\n",
       "    <tr>\n",
       "      <th>1</th>\n",
       "      <td>0.493</td>\n",
       "      <td>8</td>\n",
       "      <td>0.719</td>\n",
       "      <td>-7.230</td>\n",
       "      <td>0.0794</td>\n",
       "      <td>0.4010</td>\n",
       "      <td>0.000000</td>\n",
       "      <td>0.1180</td>\n",
       "      <td>0.1240</td>\n",
       "      <td>115.080</td>\n",
       "    </tr>\n",
       "    <tr>\n",
       "      <th>2</th>\n",
       "      <td>0.893</td>\n",
       "      <td>5</td>\n",
       "      <td>0.850</td>\n",
       "      <td>-4.783</td>\n",
       "      <td>0.0623</td>\n",
       "      <td>0.0138</td>\n",
       "      <td>0.000004</td>\n",
       "      <td>0.3720</td>\n",
       "      <td>0.0391</td>\n",
       "      <td>218.050</td>\n",
       "    </tr>\n",
       "    <tr>\n",
       "      <th>3</th>\n",
       "      <td>0.781</td>\n",
       "      <td>0</td>\n",
       "      <td>0.476</td>\n",
       "      <td>-4.710</td>\n",
       "      <td>0.1030</td>\n",
       "      <td>0.0237</td>\n",
       "      <td>0.000000</td>\n",
       "      <td>0.1140</td>\n",
       "      <td>0.1750</td>\n",
       "      <td>186.948</td>\n",
       "    </tr>\n",
       "    <tr>\n",
       "      <th>4</th>\n",
       "      <td>0.624</td>\n",
       "      <td>2</td>\n",
       "      <td>0.798</td>\n",
       "      <td>-7.668</td>\n",
       "      <td>0.2930</td>\n",
       "      <td>0.2170</td>\n",
       "      <td>0.000000</td>\n",
       "      <td>0.1660</td>\n",
       "      <td>0.5910</td>\n",
       "      <td>147.988</td>\n",
       "    </tr>\n",
       "  </tbody>\n",
       "</table>\n",
       "</div>"
      ],
      "text/plain": [
       "   energy  key  danceability  loudness  speechiness  acousticness  \\\n",
       "0   0.814    2         0.831    -7.364       0.4200        0.0598   \n",
       "1   0.493    8         0.719    -7.230       0.0794        0.4010   \n",
       "2   0.893    5         0.850    -4.783       0.0623        0.0138   \n",
       "3   0.781    0         0.476    -4.710       0.1030        0.0237   \n",
       "4   0.624    2         0.798    -7.668       0.2930        0.2170   \n",
       "\n",
       "   instrumentalness  liveness  valence    tempo  \n",
       "0          0.013400    0.0556   0.3890  156.985  \n",
       "1          0.000000    0.1180   0.1240  115.080  \n",
       "2          0.000004    0.3720   0.0391  218.050  \n",
       "3          0.000000    0.1140   0.1750  186.948  \n",
       "4          0.000000    0.1660   0.5910  147.988  "
      ]
     },
     "execution_count": 17,
     "metadata": {},
     "output_type": "execute_result"
    },
    {
     "name": "stdout",
     "output_type": "stream",
     "text": [
      "\n",
      "-----\n",
      "\n"
     ]
    },
    {
     "data": {
      "text/plain": [
       "(42305, 10)"
      ]
     },
     "execution_count": 17,
     "metadata": {},
     "output_type": "execute_result"
    },
    {
     "name": "stdout",
     "output_type": "stream",
     "text": [
      "\n",
      "-----\n",
      "\n"
     ]
    },
    {
     "data": {
      "text/plain": [
       "Index(['energy', 'key', 'danceability', 'loudness', 'speechiness',\n",
       "       'acousticness', 'instrumentalness', 'liveness', 'valence', 'tempo'],\n",
       "      dtype='object')"
      ]
     },
     "execution_count": 17,
     "metadata": {},
     "output_type": "execute_result"
    }
   ],
   "source": [
    "num_data = df[num_columns]\n",
    "num_data.head()\n",
    "print(\"\\n-----\\n\")\n",
    "num_data.shape    \n",
    "print(\"\\n-----\\n\")   \n",
    "num_data.columns"
   ]
  },
  {
   "cell_type": "code",
   "execution_count": 18,
   "id": "5067b4dd",
   "metadata": {},
   "outputs": [],
   "source": [
    "ss= StandardScaler()"
   ]
  },
  {
   "cell_type": "code",
   "execution_count": 19,
   "id": "8497f2f5",
   "metadata": {},
   "outputs": [],
   "source": [
    "nc = ss.fit_transform(num_data.loc[:,num_columns])"
   ]
  },
  {
   "cell_type": "code",
   "execution_count": 20,
   "id": "2e22cbbd",
   "metadata": {},
   "outputs": [
    {
     "data": {
      "text/plain": [
       "(42305, 10)"
      ]
     },
     "execution_count": 20,
     "metadata": {},
     "output_type": "execute_result"
    }
   ],
   "source": [
    "nc.shape"
   ]
  },
  {
   "cell_type": "code",
   "execution_count": 21,
   "id": "8ec0411f",
   "metadata": {},
   "outputs": [
    {
     "data": {
      "text/html": [
       "<div>\n",
       "<style scoped>\n",
       "    .dataframe tbody tr th:only-of-type {\n",
       "        vertical-align: middle;\n",
       "    }\n",
       "\n",
       "    .dataframe tbody tr th {\n",
       "        vertical-align: top;\n",
       "    }\n",
       "\n",
       "    .dataframe thead th {\n",
       "        text-align: right;\n",
       "    }\n",
       "</style>\n",
       "<table border=\"1\" class=\"dataframe\">\n",
       "  <thead>\n",
       "    <tr style=\"text-align: right;\">\n",
       "      <th></th>\n",
       "      <th>energy</th>\n",
       "      <th>key</th>\n",
       "      <th>danceability</th>\n",
       "      <th>loudness</th>\n",
       "      <th>speechiness</th>\n",
       "      <th>acousticness</th>\n",
       "      <th>instrumentalness</th>\n",
       "      <th>liveness</th>\n",
       "      <th>valence</th>\n",
       "      <th>tempo</th>\n",
       "    </tr>\n",
       "  </thead>\n",
       "  <tbody>\n",
       "    <tr>\n",
       "      <th>0</th>\n",
       "      <td>0.280079</td>\n",
       "      <td>-0.919298</td>\n",
       "      <td>1.223608</td>\n",
       "      <td>-0.305514</td>\n",
       "      <td>2.246552</td>\n",
       "      <td>-0.212853</td>\n",
       "      <td>-0.727231</td>\n",
       "      <td>-0.902637</td>\n",
       "      <td>0.136790</td>\n",
       "      <td>0.398876</td>\n",
       "    </tr>\n",
       "    <tr>\n",
       "      <th>1</th>\n",
       "      <td>-1.466185</td>\n",
       "      <td>0.717318</td>\n",
       "      <td>0.508480</td>\n",
       "      <td>-0.259954</td>\n",
       "      <td>-0.453057</td>\n",
       "      <td>1.784518</td>\n",
       "      <td>-0.763370</td>\n",
       "      <td>-0.547231</td>\n",
       "      <td>-0.999586</td>\n",
       "      <td>-1.358564</td>\n",
       "    </tr>\n",
       "  </tbody>\n",
       "</table>\n",
       "</div>"
      ],
      "text/plain": [
       "     energy       key  danceability  loudness  speechiness  acousticness  \\\n",
       "0  0.280079 -0.919298      1.223608 -0.305514     2.246552     -0.212853   \n",
       "1 -1.466185  0.717318      0.508480 -0.259954    -0.453057      1.784518   \n",
       "\n",
       "   instrumentalness  liveness   valence     tempo  \n",
       "0         -0.727231 -0.902637  0.136790  0.398876  \n",
       "1         -0.763370 -0.547231 -0.999586 -1.358564  "
      ]
     },
     "execution_count": 21,
     "metadata": {},
     "output_type": "execute_result"
    }
   ],
   "source": [
    "nc = pd.DataFrame(nc, columns = num_columns)\n",
    "nc.head(2)"
   ]
  },
  {
   "cell_type": "code",
   "execution_count": 22,
   "id": "5c47ca62",
   "metadata": {},
   "outputs": [
    {
     "data": {
      "text/plain": [
       "(42305, 12)"
      ]
     },
     "execution_count": 22,
     "metadata": {},
     "output_type": "execute_result"
    }
   ],
   "source": [
    "nc['mode'] = df['mode']\n",
    "nc['genre']=df['genre']\n",
    "nc.shape"
   ]
  },
  {
   "cell_type": "code",
   "execution_count": 23,
   "id": "c6ab7459",
   "metadata": {},
   "outputs": [
    {
     "data": {
      "text/plain": [
       "(array([ 0,  1,  2,  3,  4,  5,  6,  7,  8,  9, 10]),\n",
       " [Text(0, 0, 'energy'),\n",
       "  Text(1, 0, 'key'),\n",
       "  Text(2, 0, 'danceability'),\n",
       "  Text(3, 0, 'loudness'),\n",
       "  Text(4, 0, 'speechiness'),\n",
       "  Text(5, 0, 'acousticness'),\n",
       "  Text(6, 0, 'instrumentalness'),\n",
       "  Text(7, 0, 'liveness'),\n",
       "  Text(8, 0, 'valence'),\n",
       "  Text(9, 0, 'tempo'),\n",
       "  Text(10, 0, 'mode')])"
      ]
     },
     "execution_count": 23,
     "metadata": {},
     "output_type": "execute_result"
    },
    {
     "data": {
      "text/plain": [
       "Text(0.5, 1.0, 'Parallel chart with music data')"
      ]
     },
     "execution_count": 23,
     "metadata": {},
     "output_type": "execute_result"
    },
    {
     "data": {
      "image/png": "[encoded data removed]",
      "text/plain": [
       "<Figure size 432x288 with 1 Axes>"
      ]
     },
     "metadata": {
      "needs_background": "light"
     },
     "output_type": "display_data"
    }
   ],
   "source": [
    "fig1 = plt.figure()\n",
    "ax = pd.plotting.parallel_coordinates(nc,\n",
    "                                 'genre',\n",
    "                                  colormap= plt.cm.winter\n",
    "                                  )\n",
    "\n",
    "plt.xticks(rotation=90)\n",
    "plt.title(\"Parallel chart with music data\")"
   ]
  },
  {
   "cell_type": "code",
   "execution_count": 24,
   "id": "34a06768",
   "metadata": {},
   "outputs": [
    {
     "data": {
      "text/plain": [
       "<AxesSubplot:>"
      ]
     },
     "execution_count": 24,
     "metadata": {},
     "output_type": "execute_result"
    },
    {
     "data": {
      "text/plain": [
       "(array([-4., -3., -2., -1.,  0.,  1.,  2.,  3.,  4.]),\n",
       " [Text(0, 0, ''),\n",
       "  Text(0, 0, ''),\n",
       "  Text(0, 0, ''),\n",
       "  Text(0, 0, ''),\n",
       "  Text(0, 0, ''),\n",
       "  Text(0, 0, ''),\n",
       "  Text(0, 0, ''),\n",
       "  Text(0, 0, ''),\n",
       "  Text(0, 0, '')])"
      ]
     },
     "execution_count": 24,
     "metadata": {},
     "output_type": "execute_result"
    },
    {
     "data": {
      "text/plain": [
       "Text(0.5, 1.0, 'Andrews curve with music data')"
      ]
     },
     "execution_count": 24,
     "metadata": {},
     "output_type": "execute_result"
    },
    {
     "data": {
      "image/png": "[encoded data removed]",
      "text/plain": [
       "<Figure size 432x288 with 1 Axes>"
      ]
     },
     "metadata": {
      "needs_background": "light"
     },
     "output_type": "display_data"
    }
   ],
   "source": [
    "fig2 = plt.figure()\n",
    "pd.plotting.andrews_curves(nc,\n",
    "                           'genre',\n",
    "                            colormap = plt.cm.winter\n",
    "                           )\n",
    "plt.xticks(rotation=90)\n",
    "plt.title(\"Andrews curve with music data\")"
   ]
  },
  {
   "cell_type": "code",
   "execution_count": 25,
   "id": "7fada0d2",
   "metadata": {},
   "outputs": [
    {
     "data": {
      "text/plain": [
       "<AxesSubplot:>"
      ]
     },
     "execution_count": 25,
     "metadata": {},
     "output_type": "execute_result"
    },
    {
     "data": {
      "image/png": "[encoded data removed]",
      "text/plain": [
       "<Figure size 432x288 with 1 Axes>"
      ]
     },
     "metadata": {
      "needs_background": "light"
     },
     "output_type": "display_data"
    }
   ],
   "source": [
    "fig3 = plt.figure()\n",
    "pd.plotting.radviz(nc,\n",
    "                  'genre',\n",
    "                  colormap = plt.cm.winter,\n",
    "                  alpha=0.4\n",
    "                  )"
   ]
  },
  {
   "cell_type": "code",
   "execution_count": 26,
   "id": "258bba1b",
   "metadata": {},
   "outputs": [],
   "source": [
    "from sklearn.impute import SimpleImputer\n",
    "Pipe=Pipeline(steps=[(\"simp_imputer\",SimpleImputer(strategy='median')),(\"stand_scale\",StandardScaler())])"
   ]
  },
  {
   "cell_type": "code",
   "execution_count": 27,
   "id": "46470691",
   "metadata": {},
   "outputs": [
    {
     "data": {
      "text/plain": [
       "array([[ 0.2800791 , -0.91929801,  1.22360786, ..., -0.90263701,\n",
       "         0.13678982,  0.39887636],\n",
       "       [-1.46618532,  0.71731784,  0.50847965, ..., -0.54723051,\n",
       "        -0.99958607, -1.35856366],\n",
       "       [ 0.70984511, -0.10099009,  1.34492425, ...,  0.89945622,\n",
       "        -1.36365518,  2.95986132],\n",
       "       ...,\n",
       "       [ 0.31815963,  0.71731784, -1.77737659, ...,  0.97349924,\n",
       "        -0.99958607,  0.31290208],\n",
       "       [ 0.86216724,  0.17177922, -1.03670809, ..., -0.89181534,\n",
       "         0.56132271,  0.10769616],\n",
       "       [ 0.99272907,  0.99008715, -0.70468428, ...,  1.13867213,\n",
       "        -0.95670396,  0.31759921]])"
      ]
     },
     "execution_count": 27,
     "metadata": {},
     "output_type": "execute_result"
    }
   ],
   "source": [
    "Pipe.fit_transform(df[num_columns])"
   ]
  },
  {
   "cell_type": "code",
   "execution_count": 28,
   "id": "edcabcc5",
   "metadata": {},
   "outputs": [],
   "source": [
    "from sklearn.preprocessing import OneHotEncoder\n",
    "nf=Pipeline(steps=[(\"simp_imputer\",SimpleImputer(strategy='constant')),(\"one_hot_encoder\",OneHotEncoder())])"
   ]
  },
  {
   "cell_type": "code",
   "execution_count": 29,
   "id": "c6b3998f",
   "metadata": {},
   "outputs": [
    {
     "data": {
      "text/plain": [
       "<42305x2 sparse matrix of type '<class 'numpy.float64'>'\n",
       "\twith 42305 stored elements in Compressed Sparse Row format>"
      ]
     },
     "execution_count": 29,
     "metadata": {},
     "output_type": "execute_result"
    }
   ],
   "source": [
    "nf.fit_transform(df[cat_columns])"
   ]
  },
  {
   "cell_type": "code",
   "execution_count": 30,
   "id": "02654e98",
   "metadata": {},
   "outputs": [],
   "source": [
    "ct = ColumnTransformer([('nc', Pipe, num_columns), ('cp', nf, cat_columns)])"
   ]
  },
  {
   "cell_type": "code",
   "execution_count": 31,
   "id": "ecff7e11",
   "metadata": {},
   "outputs": [
    {
     "data": {
      "text/plain": [
       "array([[ 0.2800791 , -0.91929801,  1.22360786, ...,  0.39887636,\n",
       "         0.        ,  1.        ],\n",
       "       [-1.46618532,  0.71731784,  0.50847965, ..., -1.35856366,\n",
       "         0.        ,  1.        ],\n",
       "       [ 0.70984511, -0.10099009,  1.34492425, ...,  2.95986132,\n",
       "         0.        ,  1.        ],\n",
       "       ...,\n",
       "       [ 0.31815963,  0.71731784, -1.77737659, ...,  0.31290208,\n",
       "         0.        ,  1.        ],\n",
       "       [ 0.86216724,  0.17177922, -1.03670809, ...,  0.10769616,\n",
       "         1.        ,  0.        ],\n",
       "       [ 0.99272907,  0.99008715, -0.70468428, ...,  0.31759921,\n",
       "         0.        ,  1.        ]])"
      ]
     },
     "execution_count": 31,
     "metadata": {},
     "output_type": "execute_result"
    }
   ],
   "source": [
    "ct.fit_transform(df)"
   ]
  },
  {
   "cell_type": "code",
   "execution_count": 32,
   "id": "a4923c3f",
   "metadata": {},
   "outputs": [],
   "source": [
    "y = df.pop('genre')\n",
    "X = df"
   ]
  },
  {
   "cell_type": "code",
   "execution_count": 33,
   "id": "d1dc1d79",
   "metadata": {},
   "outputs": [],
   "source": [
    "X_train,X_test, y_train, y_test = train_test_split(\n",
    "                                                    X,                   # Data features\n",
    "                                                    y,                   # Target column\n",
    "                                                    test_size = 0.2      # split-ratio\n",
    "                                                    )"
   ]
  },
  {
   "cell_type": "code",
   "execution_count": 34,
   "id": "dc00b3e2",
   "metadata": {},
   "outputs": [
    {
     "data": {
      "text/plain": [
       "'X_train shape: (33844, 18)'"
      ]
     },
     "execution_count": 34,
     "metadata": {},
     "output_type": "execute_result"
    },
    {
     "name": "stdout",
     "output_type": "stream",
     "text": [
      "\n"
     ]
    },
    {
     "data": {
      "text/plain": [
       "'X_test.shape : (8461, 18)'"
      ]
     },
     "execution_count": 34,
     "metadata": {},
     "output_type": "execute_result"
    },
    {
     "name": "stdout",
     "output_type": "stream",
     "text": [
      "\n"
     ]
    },
    {
     "data": {
      "text/plain": [
       "'y_train shape: (33844,)'"
      ]
     },
     "execution_count": 34,
     "metadata": {},
     "output_type": "execute_result"
    },
    {
     "name": "stdout",
     "output_type": "stream",
     "text": [
      "\n"
     ]
    },
    {
     "data": {
      "text/plain": [
       "'y_test shape : (8461,)'"
      ]
     },
     "execution_count": 34,
     "metadata": {},
     "output_type": "execute_result"
    }
   ],
   "source": [
    "f\"X_train shape: {X_train.shape}\"    \n",
    "print()\n",
    "f\"X_test.shape : {X_test.shape}\"     \n",
    "print()\n",
    "f\"y_train shape: {y_train.shape}\"    \n",
    "print()\n",
    "f\"y_test shape : {y_test.shape}\""
   ]
  },
  {
   "cell_type": "code",
   "execution_count": 35,
   "id": "da75eab0",
   "metadata": {},
   "outputs": [],
   "source": [
    "pt = Pipeline([ ('ct', ct),\n",
    "              ('dt', DecisionTreeClassifier())])"
   ]
  },
  {
   "cell_type": "code",
   "execution_count": 36,
   "id": "e912ab74",
   "metadata": {
    "scrolled": true
   },
   "outputs": [
    {
     "data": {
      "text/plain": [
       "Pipeline(steps=[('ct',\n",
       "                 ColumnTransformer(transformers=[('nc',\n",
       "                                                  Pipeline(steps=[('simp_imputer',\n",
       "                                                                   SimpleImputer(strategy='median')),\n",
       "                                                                  ('stand_scale',\n",
       "                                                                   StandardScaler())]),\n",
       "                                                  ['energy', 'key',\n",
       "                                                   'danceability', 'loudness',\n",
       "                                                   'speechiness',\n",
       "                                                   'acousticness',\n",
       "                                                   'instrumentalness',\n",
       "                                                   'liveness', 'valence',\n",
       "                                                   'tempo']),\n",
       "                                                 ('cp',\n",
       "                                                  Pipeline(steps=[('simp_imputer',\n",
       "                                                                   SimpleImputer(strategy='constant')),\n",
       "                                                                  ('one_hot_encoder',\n",
       "                                                                   OneHotEncoder())]),\n",
       "                                                  ['mode'])])),\n",
       "                ('dt', DecisionTreeClassifier())])"
      ]
     },
     "execution_count": 36,
     "metadata": {},
     "output_type": "execute_result"
    }
   ],
   "source": [
    "pt.fit(X_train,y_train)"
   ]
  },
  {
   "cell_type": "code",
   "execution_count": 37,
   "id": "50512445",
   "metadata": {},
   "outputs": [
    {
     "data": {
      "text/plain": [
       "array(['Hiphop', 'Hiphop', 'dnb', ..., 'techhouse', 'techhouse',\n",
       "       'Dark Trap'], dtype=object)"
      ]
     },
     "execution_count": 37,
     "metadata": {},
     "output_type": "execute_result"
    }
   ],
   "source": [
    "pt.predict(X_test)"
   ]
  },
  {
   "cell_type": "code",
   "execution_count": 38,
   "id": "3f4b9486",
   "metadata": {},
   "outputs": [
    {
     "data": {
      "text/plain": [
       "21487             Hiphop\n",
       "7704     Underground Rap\n",
       "38521                dnb\n",
       "18139                Pop\n",
       "26575             techno\n",
       "              ...       \n",
       "16703                RnB\n",
       "35213               trap\n",
       "24032          techhouse\n",
       "23972          techhouse\n",
       "13575                Emo\n",
       "Name: genre, Length: 8461, dtype: object"
      ]
     },
     "execution_count": 38,
     "metadata": {},
     "output_type": "execute_result"
    }
   ],
   "source": [
    "y_test"
   ]
  },
  {
   "cell_type": "code",
   "execution_count": 39,
   "id": "394d2b11",
   "metadata": {},
   "outputs": [
    {
     "data": {
      "text/html": [
       "<style>#sk-f7104359-5f99-426c-833d-e64c1cd90ef0 {color: black;background-color: white;}#sk-f7104359-5f99-426c-833d-e64c1cd90ef0 pre{padding: 0;}#sk-f7104359-5f99-426c-833d-e64c1cd90ef0 div.sk-toggleable {background-color: white;}#sk-f7104359-5f99-426c-833d-e64c1cd90ef0 label.sk-toggleable__label {cursor: pointer;display: block;width: 100%;margin-bottom: 0;padding: 0.2em 0.3em;box-sizing: border-box;text-align: center;}#sk-f7104359-5f99-426c-833d-e64c1cd90ef0 div.sk-toggleable__content {max-height: 0;max-width: 0;overflow: hidden;text-align: left;background-color: #f0f8ff;}#sk-f7104359-5f99-426c-833d-e64c1cd90ef0 div.sk-toggleable__content pre {margin: 0.2em;color: black;border-radius: 0.25em;background-color: #f0f8ff;}#sk-f7104359-5f99-426c-833d-e64c1cd90ef0 input.sk-toggleable__control:checked~div.sk-toggleable__content {max-height: 200px;max-width: 100%;overflow: auto;}#sk-f7104359-5f99-426c-833d-e64c1cd90ef0 div.sk-estimator input.sk-toggleable__control:checked~label.sk-toggleable__label {background-color: #d4ebff;}#sk-f7104359-5f99-426c-833d-e64c1cd90ef0 div.sk-label input.sk-toggleable__control:checked~label.sk-toggleable__label {background-color: #d4ebff;}#sk-f7104359-5f99-426c-833d-e64c1cd90ef0 input.sk-hidden--visually {border: 0;clip: rect(1px 1px 1px 1px);clip: rect(1px, 1px, 1px, 1px);height: 1px;margin: -1px;overflow: hidden;padding: 0;position: absolute;width: 1px;}#sk-f7104359-5f99-426c-833d-e64c1cd90ef0 div.sk-estimator {font-family: monospace;background-color: #f0f8ff;margin: 0.25em 0.25em;border: 1px dotted black;border-radius: 0.25em;box-sizing: border-box;}#sk-f7104359-5f99-426c-833d-e64c1cd90ef0 div.sk-estimator:hover {background-color: #d4ebff;}#sk-f7104359-5f99-426c-833d-e64c1cd90ef0 div.sk-parallel-item::after {content: \"\";width: 100%;border-bottom: 1px solid gray;flex-grow: 1;}#sk-f7104359-5f99-426c-833d-e64c1cd90ef0 div.sk-label:hover label.sk-toggleable__label {background-color: #d4ebff;}#sk-f7104359-5f99-426c-833d-e64c1cd90ef0 div.sk-serial::before {content: \"\";position: absolute;border-left: 1px solid gray;box-sizing: border-box;top: 2em;bottom: 0;left: 50%;}#sk-f7104359-5f99-426c-833d-e64c1cd90ef0 div.sk-serial {display: flex;flex-direction: column;align-items: center;background-color: white;}#sk-f7104359-5f99-426c-833d-e64c1cd90ef0 div.sk-item {z-index: 1;}#sk-f7104359-5f99-426c-833d-e64c1cd90ef0 div.sk-parallel {display: flex;align-items: stretch;justify-content: center;background-color: white;}#sk-f7104359-5f99-426c-833d-e64c1cd90ef0 div.sk-parallel-item {display: flex;flex-direction: column;position: relative;background-color: white;}#sk-f7104359-5f99-426c-833d-e64c1cd90ef0 div.sk-parallel-item:first-child::after {align-self: flex-end;width: 50%;}#sk-f7104359-5f99-426c-833d-e64c1cd90ef0 div.sk-parallel-item:last-child::after {align-self: flex-start;width: 50%;}#sk-f7104359-5f99-426c-833d-e64c1cd90ef0 div.sk-parallel-item:only-child::after {width: 0;}#sk-f7104359-5f99-426c-833d-e64c1cd90ef0 div.sk-dashed-wrapped {border: 1px dashed gray;margin: 0.2em;box-sizing: border-box;padding-bottom: 0.1em;background-color: white;position: relative;}#sk-f7104359-5f99-426c-833d-e64c1cd90ef0 div.sk-label label {font-family: monospace;font-weight: bold;background-color: white;display: inline-block;line-height: 1.2em;}#sk-f7104359-5f99-426c-833d-e64c1cd90ef0 div.sk-label-container {position: relative;z-index: 2;text-align: center;}#sk-f7104359-5f99-426c-833d-e64c1cd90ef0 div.sk-container {display: inline-block;position: relative;}</style><div id=\"sk-f7104359-5f99-426c-833d-e64c1cd90ef0\" class\"sk-top-container\"><div class=\"sk-container\"><div class=\"sk-item sk-dashed-wrapped\"><div class=\"sk-label-container\"><div class=\"sk-label sk-toggleable\"><input class=\"sk-toggleable__control sk-hidden--visually\" id=\"a120f5f4-4e18-4dc5-889a-f32273020f15\" type=\"checkbox\" ><label class=\"sk-toggleable__label\" for=\"a120f5f4-4e18-4dc5-889a-f32273020f15\">Pipeline</label><div class=\"sk-toggleable__content\"><pre>Pipeline(steps=[('ct',\n",
       "                 ColumnTransformer(transformers=[('nc',\n",
       "                                                  Pipeline(steps=[('simp_imputer',\n",
       "                                                                   SimpleImputer(strategy='median')),\n",
       "                                                                  ('stand_scale',\n",
       "                                                                   StandardScaler())]),\n",
       "                                                  ['energy', 'key',\n",
       "                                                   'danceability', 'loudness',\n",
       "                                                   'speechiness',\n",
       "                                                   'acousticness',\n",
       "                                                   'instrumentalness',\n",
       "                                                   'liveness', 'valence',\n",
       "                                                   'tempo']),\n",
       "                                                 ('cp',\n",
       "                                                  Pipeline(steps=[('simp_imputer',\n",
       "                                                                   SimpleImputer(strategy='constant')),\n",
       "                                                                  ('one_hot_encoder',\n",
       "                                                                   OneHotEncoder())]),\n",
       "                                                  ['mode'])])),\n",
       "                ('dt', DecisionTreeClassifier())])</pre></div></div></div><div class=\"sk-serial\"><div class=\"sk-item sk-dashed-wrapped\"><div class=\"sk-label-container\"><div class=\"sk-label sk-toggleable\"><input class=\"sk-toggleable__control sk-hidden--visually\" id=\"1631b019-96e3-4ecf-b102-9945e8b065da\" type=\"checkbox\" ><label class=\"sk-toggleable__label\" for=\"1631b019-96e3-4ecf-b102-9945e8b065da\">ct: ColumnTransformer</label><div class=\"sk-toggleable__content\"><pre>ColumnTransformer(transformers=[('nc',\n",
       "                                 Pipeline(steps=[('simp_imputer',\n",
       "                                                  SimpleImputer(strategy='median')),\n",
       "                                                 ('stand_scale',\n",
       "                                                  StandardScaler())]),\n",
       "                                 ['energy', 'key', 'danceability', 'loudness',\n",
       "                                  'speechiness', 'acousticness',\n",
       "                                  'instrumentalness', 'liveness', 'valence',\n",
       "                                  'tempo']),\n",
       "                                ('cp',\n",
       "                                 Pipeline(steps=[('simp_imputer',\n",
       "                                                  SimpleImputer(strategy='constant')),\n",
       "                                                 ('one_hot_encoder',\n",
       "                                                  OneHotEncoder())]),\n",
       "                                 ['mode'])])</pre></div></div></div><div class=\"sk-parallel\"><div class=\"sk-parallel-item\"><div class=\"sk-item\"><div class=\"sk-label-container\"><div class=\"sk-label sk-toggleable\"><input class=\"sk-toggleable__control sk-hidden--visually\" id=\"96c82a30-1da6-4d29-8ffb-d027f5611236\" type=\"checkbox\" ><label class=\"sk-toggleable__label\" for=\"96c82a30-1da6-4d29-8ffb-d027f5611236\">nc</label><div class=\"sk-toggleable__content\"><pre>['energy', 'key', 'danceability', 'loudness', 'speechiness', 'acousticness', 'instrumentalness', 'liveness', 'valence', 'tempo']</pre></div></div></div><div class=\"sk-serial\"><div class=\"sk-item\"><div class=\"sk-serial\"><div class=\"sk-item\"><div class=\"sk-estimator sk-toggleable\"><input class=\"sk-toggleable__control sk-hidden--visually\" id=\"06a13136-27dd-4bce-9d13-6036c5deb5f7\" type=\"checkbox\" ><label class=\"sk-toggleable__label\" for=\"06a13136-27dd-4bce-9d13-6036c5deb5f7\">SimpleImputer</label><div class=\"sk-toggleable__content\"><pre>SimpleImputer(strategy='median')</pre></div></div></div><div class=\"sk-item\"><div class=\"sk-estimator sk-toggleable\"><input class=\"sk-toggleable__control sk-hidden--visually\" id=\"c0e85142-ca2b-45e4-a9cc-f7d91aaad3f7\" type=\"checkbox\" ><label class=\"sk-toggleable__label\" for=\"c0e85142-ca2b-45e4-a9cc-f7d91aaad3f7\">StandardScaler</label><div class=\"sk-toggleable__content\"><pre>StandardScaler()</pre></div></div></div></div></div></div></div></div><div class=\"sk-parallel-item\"><div class=\"sk-item\"><div class=\"sk-label-container\"><div class=\"sk-label sk-toggleable\"><input class=\"sk-toggleable__control sk-hidden--visually\" id=\"09fbbf6f-0c23-448b-9d89-b7e98e91977c\" type=\"checkbox\" ><label class=\"sk-toggleable__label\" for=\"09fbbf6f-0c23-448b-9d89-b7e98e91977c\">cp</label><div class=\"sk-toggleable__content\"><pre>['mode']</pre></div></div></div><div class=\"sk-serial\"><div class=\"sk-item\"><div class=\"sk-serial\"><div class=\"sk-item\"><div class=\"sk-estimator sk-toggleable\"><input class=\"sk-toggleable__control sk-hidden--visually\" id=\"51c38242-98c1-4f0e-914d-9a1b428b976b\" type=\"checkbox\" ><label class=\"sk-toggleable__label\" for=\"51c38242-98c1-4f0e-914d-9a1b428b976b\">SimpleImputer</label><div class=\"sk-toggleable__content\"><pre>SimpleImputer(strategy='constant')</pre></div></div></div><div class=\"sk-item\"><div class=\"sk-estimator sk-toggleable\"><input class=\"sk-toggleable__control sk-hidden--visually\" id=\"0b43e0bc-e3f9-47cb-8273-1f491c8ee83b\" type=\"checkbox\" ><label class=\"sk-toggleable__label\" for=\"0b43e0bc-e3f9-47cb-8273-1f491c8ee83b\">OneHotEncoder</label><div class=\"sk-toggleable__content\"><pre>OneHotEncoder()</pre></div></div></div></div></div></div></div></div></div></div><div class=\"sk-item\"><div class=\"sk-estimator sk-toggleable\"><input class=\"sk-toggleable__control sk-hidden--visually\" id=\"4228c978-862a-4cf3-84e2-574b60de4923\" type=\"checkbox\" ><label class=\"sk-toggleable__label\" for=\"4228c978-862a-4cf3-84e2-574b60de4923\">DecisionTreeClassifier</label><div class=\"sk-toggleable__content\"><pre>DecisionTreeClassifier()</pre></div></div></div></div></div></div></div>"
      ],
      "text/plain": [
       "Pipeline(steps=[('ct',\n",
       "                 ColumnTransformer(transformers=[('nc',\n",
       "                                                  Pipeline(steps=[('simp_imputer',\n",
       "                                                                   SimpleImputer(strategy='median')),\n",
       "                                                                  ('stand_scale',\n",
       "                                                                   StandardScaler())]),\n",
       "                                                  ['energy', 'key',\n",
       "                                                   'danceability', 'loudness',\n",
       "                                                   'speechiness',\n",
       "                                                   'acousticness',\n",
       "                                                   'instrumentalness',\n",
       "                                                   'liveness', 'valence',\n",
       "                                                   'tempo']),\n",
       "                                                 ('cp',\n",
       "                                                  Pipeline(steps=[('simp_imputer',\n",
       "                                                                   SimpleImputer(strategy='constant')),\n",
       "                                                                  ('one_hot_encoder',\n",
       "                                                                   OneHotEncoder())]),\n",
       "                                                  ['mode'])])),\n",
       "                ('dt', DecisionTreeClassifier())])"
      ]
     },
     "execution_count": 39,
     "metadata": {},
     "output_type": "execute_result"
    }
   ],
   "source": [
    "set_config(display='diagram')\n",
    "pt"
   ]
  },
  {
   "cell_type": "code",
   "execution_count": 40,
   "id": "43e754b3",
   "metadata": {},
   "outputs": [],
   "source": [
    "from sklearn.model_selection import GridSearchCV\n",
    "from sklearn.model_selection import RandomizedSearchCV\n",
    "from sklearn.metrics import accuracy_score, f1_score\n",
    "from sklearn.metrics import plot_roc_curve"
   ]
  },
  {
   "cell_type": "code",
   "execution_count": 41,
   "id": "597129c0",
   "metadata": {},
   "outputs": [
    {
     "data": {
      "text/plain": [
       "{'memory': None,\n",
       " 'steps': [('ct', ColumnTransformer(transformers=[('nc',\n",
       "                                    Pipeline(steps=[('simp_imputer',\n",
       "                                                     SimpleImputer(strategy='median')),\n",
       "                                                    ('stand_scale',\n",
       "                                                     StandardScaler())]),\n",
       "                                    ['energy', 'key', 'danceability', 'loudness',\n",
       "                                     'speechiness', 'acousticness',\n",
       "                                     'instrumentalness', 'liveness', 'valence',\n",
       "                                     'tempo']),\n",
       "                                   ('cp',\n",
       "                                    Pipeline(steps=[('simp_imputer',\n",
       "                                                     SimpleImputer(strategy='constant')),\n",
       "                                                    ('one_hot_encoder',\n",
       "                                                     OneHotEncoder())]),\n",
       "                                    ['mode'])])),\n",
       "  ('dt', DecisionTreeClassifier())],\n",
       " 'verbose': False,\n",
       " 'ct': ColumnTransformer(transformers=[('nc',\n",
       "                                  Pipeline(steps=[('simp_imputer',\n",
       "                                                   SimpleImputer(strategy='median')),\n",
       "                                                  ('stand_scale',\n",
       "                                                   StandardScaler())]),\n",
       "                                  ['energy', 'key', 'danceability', 'loudness',\n",
       "                                   'speechiness', 'acousticness',\n",
       "                                   'instrumentalness', 'liveness', 'valence',\n",
       "                                   'tempo']),\n",
       "                                 ('cp',\n",
       "                                  Pipeline(steps=[('simp_imputer',\n",
       "                                                   SimpleImputer(strategy='constant')),\n",
       "                                                  ('one_hot_encoder',\n",
       "                                                   OneHotEncoder())]),\n",
       "                                  ['mode'])]),\n",
       " 'dt': DecisionTreeClassifier(),\n",
       " 'ct__n_jobs': None,\n",
       " 'ct__remainder': 'drop',\n",
       " 'ct__sparse_threshold': 0.3,\n",
       " 'ct__transformer_weights': None,\n",
       " 'ct__transformers': [('nc',\n",
       "   Pipeline(steps=[('simp_imputer', SimpleImputer(strategy='median')),\n",
       "                   ('stand_scale', StandardScaler())]),\n",
       "   ['energy',\n",
       "    'key',\n",
       "    'danceability',\n",
       "    'loudness',\n",
       "    'speechiness',\n",
       "    'acousticness',\n",
       "    'instrumentalness',\n",
       "    'liveness',\n",
       "    'valence',\n",
       "    'tempo']),\n",
       "  ('cp',\n",
       "   Pipeline(steps=[('simp_imputer', SimpleImputer(strategy='constant')),\n",
       "                   ('one_hot_encoder', OneHotEncoder())]),\n",
       "   ['mode'])],\n",
       " 'ct__verbose': False,\n",
       " 'ct__nc': Pipeline(steps=[('simp_imputer', SimpleImputer(strategy='median')),\n",
       "                 ('stand_scale', StandardScaler())]),\n",
       " 'ct__cp': Pipeline(steps=[('simp_imputer', SimpleImputer(strategy='constant')),\n",
       "                 ('one_hot_encoder', OneHotEncoder())]),\n",
       " 'ct__nc__memory': None,\n",
       " 'ct__nc__steps': [('simp_imputer', SimpleImputer(strategy='median')),\n",
       "  ('stand_scale', StandardScaler())],\n",
       " 'ct__nc__verbose': False,\n",
       " 'ct__nc__simp_imputer': SimpleImputer(strategy='median'),\n",
       " 'ct__nc__stand_scale': StandardScaler(),\n",
       " 'ct__nc__simp_imputer__add_indicator': False,\n",
       " 'ct__nc__simp_imputer__copy': True,\n",
       " 'ct__nc__simp_imputer__fill_value': None,\n",
       " 'ct__nc__simp_imputer__missing_values': nan,\n",
       " 'ct__nc__simp_imputer__strategy': 'median',\n",
       " 'ct__nc__simp_imputer__verbose': 0,\n",
       " 'ct__nc__stand_scale__copy': True,\n",
       " 'ct__nc__stand_scale__with_mean': True,\n",
       " 'ct__nc__stand_scale__with_std': True,\n",
       " 'ct__cp__memory': None,\n",
       " 'ct__cp__steps': [('simp_imputer', SimpleImputer(strategy='constant')),\n",
       "  ('one_hot_encoder', OneHotEncoder())],\n",
       " 'ct__cp__verbose': False,\n",
       " 'ct__cp__simp_imputer': SimpleImputer(strategy='constant'),\n",
       " 'ct__cp__one_hot_encoder': OneHotEncoder(),\n",
       " 'ct__cp__simp_imputer__add_indicator': False,\n",
       " 'ct__cp__simp_imputer__copy': True,\n",
       " 'ct__cp__simp_imputer__fill_value': None,\n",
       " 'ct__cp__simp_imputer__missing_values': nan,\n",
       " 'ct__cp__simp_imputer__strategy': 'constant',\n",
       " 'ct__cp__simp_imputer__verbose': 0,\n",
       " 'ct__cp__one_hot_encoder__categories': 'auto',\n",
       " 'ct__cp__one_hot_encoder__drop': None,\n",
       " 'ct__cp__one_hot_encoder__dtype': numpy.float64,\n",
       " 'ct__cp__one_hot_encoder__handle_unknown': 'error',\n",
       " 'ct__cp__one_hot_encoder__sparse': True,\n",
       " 'dt__ccp_alpha': 0.0,\n",
       " 'dt__class_weight': None,\n",
       " 'dt__criterion': 'gini',\n",
       " 'dt__max_depth': None,\n",
       " 'dt__max_features': None,\n",
       " 'dt__max_leaf_nodes': None,\n",
       " 'dt__min_impurity_decrease': 0.0,\n",
       " 'dt__min_impurity_split': None,\n",
       " 'dt__min_samples_leaf': 1,\n",
       " 'dt__min_samples_split': 2,\n",
       " 'dt__min_weight_fraction_leaf': 0.0,\n",
       " 'dt__random_state': None,\n",
       " 'dt__splitter': 'best'}"
      ]
     },
     "execution_count": 41,
     "metadata": {},
     "output_type": "execute_result"
    }
   ],
   "source": [
    "pt.get_params()"
   ]
  },
  {
   "cell_type": "code",
   "execution_count": 42,
   "id": "9b9a535d",
   "metadata": {},
   "outputs": [],
   "source": [
    "parameters = {\n",
    "              'dt__max_depth': [4,10],\n",
    "              'dt__min_impurity_decrease':[0,1],\n",
    "              'dt__min_samples_leaf': [2,3],\n",
    "              'dt__criterion': [\"gini\", \"entropy\"]\n",
    "              }               "
   ]
  },
  {
   "cell_type": "code",
   "execution_count": 43,
   "id": "b1c87aa1",
   "metadata": {},
   "outputs": [
    {
     "name": "stdout",
     "output_type": "stream",
     "text": [
      "Fitting 5 folds for each of 16 candidates, totalling 80 fits\n"
     ]
    },
    {
     "data": {
      "text/html": [
       "<style>#sk-985bce4d-b3c3-477e-a2ee-c0e23db2700b {color: black;background-color: white;}#sk-985bce4d-b3c3-477e-a2ee-c0e23db2700b pre{padding: 0;}#sk-985bce4d-b3c3-477e-a2ee-c0e23db2700b div.sk-toggleable {background-color: white;}#sk-985bce4d-b3c3-477e-a2ee-c0e23db2700b label.sk-toggleable__label {cursor: pointer;display: block;width: 100%;margin-bottom: 0;padding: 0.2em 0.3em;box-sizing: border-box;text-align: center;}#sk-985bce4d-b3c3-477e-a2ee-c0e23db2700b div.sk-toggleable__content {max-height: 0;max-width: 0;overflow: hidden;text-align: left;background-color: #f0f8ff;}#sk-985bce4d-b3c3-477e-a2ee-c0e23db2700b div.sk-toggleable__content pre {margin: 0.2em;color: black;border-radius: 0.25em;background-color: #f0f8ff;}#sk-985bce4d-b3c3-477e-a2ee-c0e23db2700b input.sk-toggleable__control:checked~div.sk-toggleable__content {max-height: 200px;max-width: 100%;overflow: auto;}#sk-985bce4d-b3c3-477e-a2ee-c0e23db2700b div.sk-estimator input.sk-toggleable__control:checked~label.sk-toggleable__label {background-color: #d4ebff;}#sk-985bce4d-b3c3-477e-a2ee-c0e23db2700b div.sk-label input.sk-toggleable__control:checked~label.sk-toggleable__label {background-color: #d4ebff;}#sk-985bce4d-b3c3-477e-a2ee-c0e23db2700b input.sk-hidden--visually {border: 0;clip: rect(1px 1px 1px 1px);clip: rect(1px, 1px, 1px, 1px);height: 1px;margin: -1px;overflow: hidden;padding: 0;position: absolute;width: 1px;}#sk-985bce4d-b3c3-477e-a2ee-c0e23db2700b div.sk-estimator {font-family: monospace;background-color: #f0f8ff;margin: 0.25em 0.25em;border: 1px dotted black;border-radius: 0.25em;box-sizing: border-box;}#sk-985bce4d-b3c3-477e-a2ee-c0e23db2700b div.sk-estimator:hover {background-color: #d4ebff;}#sk-985bce4d-b3c3-477e-a2ee-c0e23db2700b div.sk-parallel-item::after {content: \"\";width: 100%;border-bottom: 1px solid gray;flex-grow: 1;}#sk-985bce4d-b3c3-477e-a2ee-c0e23db2700b div.sk-label:hover label.sk-toggleable__label {background-color: #d4ebff;}#sk-985bce4d-b3c3-477e-a2ee-c0e23db2700b div.sk-serial::before {content: \"\";position: absolute;border-left: 1px solid gray;box-sizing: border-box;top: 2em;bottom: 0;left: 50%;}#sk-985bce4d-b3c3-477e-a2ee-c0e23db2700b div.sk-serial {display: flex;flex-direction: column;align-items: center;background-color: white;}#sk-985bce4d-b3c3-477e-a2ee-c0e23db2700b div.sk-item {z-index: 1;}#sk-985bce4d-b3c3-477e-a2ee-c0e23db2700b div.sk-parallel {display: flex;align-items: stretch;justify-content: center;background-color: white;}#sk-985bce4d-b3c3-477e-a2ee-c0e23db2700b div.sk-parallel-item {display: flex;flex-direction: column;position: relative;background-color: white;}#sk-985bce4d-b3c3-477e-a2ee-c0e23db2700b div.sk-parallel-item:first-child::after {align-self: flex-end;width: 50%;}#sk-985bce4d-b3c3-477e-a2ee-c0e23db2700b div.sk-parallel-item:last-child::after {align-self: flex-start;width: 50%;}#sk-985bce4d-b3c3-477e-a2ee-c0e23db2700b div.sk-parallel-item:only-child::after {width: 0;}#sk-985bce4d-b3c3-477e-a2ee-c0e23db2700b div.sk-dashed-wrapped {border: 1px dashed gray;margin: 0.2em;box-sizing: border-box;padding-bottom: 0.1em;background-color: white;position: relative;}#sk-985bce4d-b3c3-477e-a2ee-c0e23db2700b div.sk-label label {font-family: monospace;font-weight: bold;background-color: white;display: inline-block;line-height: 1.2em;}#sk-985bce4d-b3c3-477e-a2ee-c0e23db2700b div.sk-label-container {position: relative;z-index: 2;text-align: center;}#sk-985bce4d-b3c3-477e-a2ee-c0e23db2700b div.sk-container {display: inline-block;position: relative;}</style><div id=\"sk-985bce4d-b3c3-477e-a2ee-c0e23db2700b\" class\"sk-top-container\"><div class=\"sk-container\"><div class=\"sk-item sk-dashed-wrapped\"><div class=\"sk-label-container\"><div class=\"sk-label sk-toggleable\"><input class=\"sk-toggleable__control sk-hidden--visually\" id=\"3955d441-7484-4a33-9ea9-906bb45cb1b5\" type=\"checkbox\" ><label class=\"sk-toggleable__label\" for=\"3955d441-7484-4a33-9ea9-906bb45cb1b5\">GridSearchCV</label><div class=\"sk-toggleable__content\"><pre>GridSearchCV(cv=5,\n",
       "             estimator=Pipeline(steps=[('ct',\n",
       "                                        ColumnTransformer(transformers=[('nc',\n",
       "                                                                         Pipeline(steps=[('simp_imputer',\n",
       "                                                                                          SimpleImputer(strategy='median')),\n",
       "                                                                                         ('stand_scale',\n",
       "                                                                                          StandardScaler())]),\n",
       "                                                                         ['energy',\n",
       "                                                                          'key',\n",
       "                                                                          'danceability',\n",
       "                                                                          'loudness',\n",
       "                                                                          'speechiness',\n",
       "                                                                          'acousticness',\n",
       "                                                                          'instrumentalness',\n",
       "                                                                          'liveness',\n",
       "                                                                          'valence',\n",
       "                                                                          'tempo']),\n",
       "                                                                        ('cp',\n",
       "                                                                         Pipeline(steps=[('simp_imputer',\n",
       "                                                                                          SimpleImputer(strategy='constant')),\n",
       "                                                                                         ('one_hot_encoder',\n",
       "                                                                                          OneHotEncoder())]),\n",
       "                                                                         ['mode'])])),\n",
       "                                       ('dt', DecisionTreeClassifier())]),\n",
       "             n_jobs=-1,\n",
       "             param_grid={'dt__criterion': ['gini', 'entropy'],\n",
       "                         'dt__max_depth': [4, 10],\n",
       "                         'dt__min_impurity_decrease': [0, 1],\n",
       "                         'dt__min_samples_leaf': [2, 3]},\n",
       "             refit='accuracy', scoring=['accuracy'], verbose=1)</pre></div></div></div><div class=\"sk-parallel\"><div class=\"sk-parallel-item\"><div class=\"sk-item\"><div class=\"sk-serial\"><div class=\"sk-item\"><div class=\"sk-serial\"><div class=\"sk-item sk-dashed-wrapped\"><div class=\"sk-label-container\"><div class=\"sk-label sk-toggleable\"><input class=\"sk-toggleable__control sk-hidden--visually\" id=\"3a6694a5-de30-4789-9e1d-175e30ac9892\" type=\"checkbox\" ><label class=\"sk-toggleable__label\" for=\"3a6694a5-de30-4789-9e1d-175e30ac9892\">ct: ColumnTransformer</label><div class=\"sk-toggleable__content\"><pre>ColumnTransformer(transformers=[('nc',\n",
       "                                 Pipeline(steps=[('simp_imputer',\n",
       "                                                  SimpleImputer(strategy='median')),\n",
       "                                                 ('stand_scale',\n",
       "                                                  StandardScaler())]),\n",
       "                                 ['energy', 'key', 'danceability', 'loudness',\n",
       "                                  'speechiness', 'acousticness',\n",
       "                                  'instrumentalness', 'liveness', 'valence',\n",
       "                                  'tempo']),\n",
       "                                ('cp',\n",
       "                                 Pipeline(steps=[('simp_imputer',\n",
       "                                                  SimpleImputer(strategy='constant')),\n",
       "                                                 ('one_hot_encoder',\n",
       "                                                  OneHotEncoder())]),\n",
       "                                 ['mode'])])</pre></div></div></div><div class=\"sk-parallel\"><div class=\"sk-parallel-item\"><div class=\"sk-item\"><div class=\"sk-label-container\"><div class=\"sk-label sk-toggleable\"><input class=\"sk-toggleable__control sk-hidden--visually\" id=\"db62f3cc-f20d-48ce-b977-b9e2dc1a13fc\" type=\"checkbox\" ><label class=\"sk-toggleable__label\" for=\"db62f3cc-f20d-48ce-b977-b9e2dc1a13fc\">nc</label><div class=\"sk-toggleable__content\"><pre>['energy', 'key', 'danceability', 'loudness', 'speechiness', 'acousticness', 'instrumentalness', 'liveness', 'valence', 'tempo']</pre></div></div></div><div class=\"sk-serial\"><div class=\"sk-item\"><div class=\"sk-serial\"><div class=\"sk-item\"><div class=\"sk-estimator sk-toggleable\"><input class=\"sk-toggleable__control sk-hidden--visually\" id=\"543cac7e-c5e3-4d09-bfc7-faa36f588f38\" type=\"checkbox\" ><label class=\"sk-toggleable__label\" for=\"543cac7e-c5e3-4d09-bfc7-faa36f588f38\">SimpleImputer</label><div class=\"sk-toggleable__content\"><pre>SimpleImputer(strategy='median')</pre></div></div></div><div class=\"sk-item\"><div class=\"sk-estimator sk-toggleable\"><input class=\"sk-toggleable__control sk-hidden--visually\" id=\"6599a619-d71e-4363-8da7-854780333597\" type=\"checkbox\" ><label class=\"sk-toggleable__label\" for=\"6599a619-d71e-4363-8da7-854780333597\">StandardScaler</label><div class=\"sk-toggleable__content\"><pre>StandardScaler()</pre></div></div></div></div></div></div></div></div><div class=\"sk-parallel-item\"><div class=\"sk-item\"><div class=\"sk-label-container\"><div class=\"sk-label sk-toggleable\"><input class=\"sk-toggleable__control sk-hidden--visually\" id=\"7a7ddce3-0960-40ad-96e0-e92139acc6eb\" type=\"checkbox\" ><label class=\"sk-toggleable__label\" for=\"7a7ddce3-0960-40ad-96e0-e92139acc6eb\">cp</label><div class=\"sk-toggleable__content\"><pre>['mode']</pre></div></div></div><div class=\"sk-serial\"><div class=\"sk-item\"><div class=\"sk-serial\"><div class=\"sk-item\"><div class=\"sk-estimator sk-toggleable\"><input class=\"sk-toggleable__control sk-hidden--visually\" id=\"d2d9d1bd-d0a8-4afb-b769-3b2a96dd6266\" type=\"checkbox\" ><label class=\"sk-toggleable__label\" for=\"d2d9d1bd-d0a8-4afb-b769-3b2a96dd6266\">SimpleImputer</label><div class=\"sk-toggleable__content\"><pre>SimpleImputer(strategy='constant')</pre></div></div></div><div class=\"sk-item\"><div class=\"sk-estimator sk-toggleable\"><input class=\"sk-toggleable__control sk-hidden--visually\" id=\"b724cbfb-257f-48e6-8043-3c27f2d6c098\" type=\"checkbox\" ><label class=\"sk-toggleable__label\" for=\"b724cbfb-257f-48e6-8043-3c27f2d6c098\">OneHotEncoder</label><div class=\"sk-toggleable__content\"><pre>OneHotEncoder()</pre></div></div></div></div></div></div></div></div></div></div><div class=\"sk-item\"><div class=\"sk-estimator sk-toggleable\"><input class=\"sk-toggleable__control sk-hidden--visually\" id=\"6abf4616-40f6-4a4a-8c04-a45add3b6c91\" type=\"checkbox\" ><label class=\"sk-toggleable__label\" for=\"6abf4616-40f6-4a4a-8c04-a45add3b6c91\">DecisionTreeClassifier</label><div class=\"sk-toggleable__content\"><pre>DecisionTreeClassifier()</pre></div></div></div></div></div></div></div></div></div></div></div></div>"
      ],
      "text/plain": [
       "GridSearchCV(cv=5,\n",
       "             estimator=Pipeline(steps=[('ct',\n",
       "                                        ColumnTransformer(transformers=[('nc',\n",
       "                                                                         Pipeline(steps=[('simp_imputer',\n",
       "                                                                                          SimpleImputer(strategy='median')),\n",
       "                                                                                         ('stand_scale',\n",
       "                                                                                          StandardScaler())]),\n",
       "                                                                         ['energy',\n",
       "                                                                          'key',\n",
       "                                                                          'danceability',\n",
       "                                                                          'loudness',\n",
       "                                                                          'speechiness',\n",
       "                                                                          'acousticness',\n",
       "                                                                          'instrumentalness',\n",
       "                                                                          'liveness',\n",
       "                                                                          'valence',\n",
       "                                                                          'tempo']),\n",
       "                                                                        ('cp',\n",
       "                                                                         Pipeline(steps=[('simp_imputer',\n",
       "                                                                                          SimpleImputer(strategy='constant')),\n",
       "                                                                                         ('one_hot_encoder',\n",
       "                                                                                          OneHotEncoder())]),\n",
       "                                                                         ['mode'])])),\n",
       "                                       ('dt', DecisionTreeClassifier())]),\n",
       "             n_jobs=-1,\n",
       "             param_grid={'dt__criterion': ['gini', 'entropy'],\n",
       "                         'dt__max_depth': [4, 10],\n",
       "                         'dt__min_impurity_decrease': [0, 1],\n",
       "                         'dt__min_samples_leaf': [2, 3]},\n",
       "             refit='accuracy', scoring=['accuracy'], verbose=1)"
      ]
     },
     "execution_count": 43,
     "metadata": {},
     "output_type": "execute_result"
    },
    {
     "name": "stdout",
     "output_type": "stream",
     "text": [
      "Cross-validation score: 0.5996925037552995\n",
      "Test score: 0.6082023401489186\n"
     ]
    }
   ],
   "source": [
    "grid_search = GridSearchCV(estimator=pt,           # pipeline object\n",
    "                           param_grid=parameters,  # possible parameters\n",
    "                           scoring = ['accuracy'], # Metrics for performance\n",
    "                           cv=5,                   # No of folds\n",
    "                           n_jobs=-1,              # USe parallel cpu threads\n",
    "                           verbose =1,             # Higher the value, more the verbosity\n",
    "                           refit = 'accuracy'      # Refitting final model on what parameters Those which maximise auc   \n",
    "                           )\n",
    "grid_search.fit(X_train, y_train)\n",
    "cv_score = grid_search.best_score_\n",
    "test_score = grid_search.score(X_test, y_test)\n",
    "print(f'Cross-validation score: {cv_score}\\nTest score: {test_score}')"
   ]
  },
  {
   "cell_type": "code",
   "execution_count": 44,
   "id": "4aba06e4",
   "metadata": {},
   "outputs": [
    {
     "name": "stdout",
     "output_type": "stream",
     "text": [
      "Fitting 5 folds for each of 10 candidates, totalling 50 fits\n"
     ]
    },
    {
     "data": {
      "text/html": [
       "<style>#sk-03c59efe-ec0a-43bf-a225-eafe8edcfbb9 {color: black;background-color: white;}#sk-03c59efe-ec0a-43bf-a225-eafe8edcfbb9 pre{padding: 0;}#sk-03c59efe-ec0a-43bf-a225-eafe8edcfbb9 div.sk-toggleable {background-color: white;}#sk-03c59efe-ec0a-43bf-a225-eafe8edcfbb9 label.sk-toggleable__label {cursor: pointer;display: block;width: 100%;margin-bottom: 0;padding: 0.2em 0.3em;box-sizing: border-box;text-align: center;}#sk-03c59efe-ec0a-43bf-a225-eafe8edcfbb9 div.sk-toggleable__content {max-height: 0;max-width: 0;overflow: hidden;text-align: left;background-color: #f0f8ff;}#sk-03c59efe-ec0a-43bf-a225-eafe8edcfbb9 div.sk-toggleable__content pre {margin: 0.2em;color: black;border-radius: 0.25em;background-color: #f0f8ff;}#sk-03c59efe-ec0a-43bf-a225-eafe8edcfbb9 input.sk-toggleable__control:checked~div.sk-toggleable__content {max-height: 200px;max-width: 100%;overflow: auto;}#sk-03c59efe-ec0a-43bf-a225-eafe8edcfbb9 div.sk-estimator input.sk-toggleable__control:checked~label.sk-toggleable__label {background-color: #d4ebff;}#sk-03c59efe-ec0a-43bf-a225-eafe8edcfbb9 div.sk-label input.sk-toggleable__control:checked~label.sk-toggleable__label {background-color: #d4ebff;}#sk-03c59efe-ec0a-43bf-a225-eafe8edcfbb9 input.sk-hidden--visually {border: 0;clip: rect(1px 1px 1px 1px);clip: rect(1px, 1px, 1px, 1px);height: 1px;margin: -1px;overflow: hidden;padding: 0;position: absolute;width: 1px;}#sk-03c59efe-ec0a-43bf-a225-eafe8edcfbb9 div.sk-estimator {font-family: monospace;background-color: #f0f8ff;margin: 0.25em 0.25em;border: 1px dotted black;border-radius: 0.25em;box-sizing: border-box;}#sk-03c59efe-ec0a-43bf-a225-eafe8edcfbb9 div.sk-estimator:hover {background-color: #d4ebff;}#sk-03c59efe-ec0a-43bf-a225-eafe8edcfbb9 div.sk-parallel-item::after {content: \"\";width: 100%;border-bottom: 1px solid gray;flex-grow: 1;}#sk-03c59efe-ec0a-43bf-a225-eafe8edcfbb9 div.sk-label:hover label.sk-toggleable__label {background-color: #d4ebff;}#sk-03c59efe-ec0a-43bf-a225-eafe8edcfbb9 div.sk-serial::before {content: \"\";position: absolute;border-left: 1px solid gray;box-sizing: border-box;top: 2em;bottom: 0;left: 50%;}#sk-03c59efe-ec0a-43bf-a225-eafe8edcfbb9 div.sk-serial {display: flex;flex-direction: column;align-items: center;background-color: white;}#sk-03c59efe-ec0a-43bf-a225-eafe8edcfbb9 div.sk-item {z-index: 1;}#sk-03c59efe-ec0a-43bf-a225-eafe8edcfbb9 div.sk-parallel {display: flex;align-items: stretch;justify-content: center;background-color: white;}#sk-03c59efe-ec0a-43bf-a225-eafe8edcfbb9 div.sk-parallel-item {display: flex;flex-direction: column;position: relative;background-color: white;}#sk-03c59efe-ec0a-43bf-a225-eafe8edcfbb9 div.sk-parallel-item:first-child::after {align-self: flex-end;width: 50%;}#sk-03c59efe-ec0a-43bf-a225-eafe8edcfbb9 div.sk-parallel-item:last-child::after {align-self: flex-start;width: 50%;}#sk-03c59efe-ec0a-43bf-a225-eafe8edcfbb9 div.sk-parallel-item:only-child::after {width: 0;}#sk-03c59efe-ec0a-43bf-a225-eafe8edcfbb9 div.sk-dashed-wrapped {border: 1px dashed gray;margin: 0.2em;box-sizing: border-box;padding-bottom: 0.1em;background-color: white;position: relative;}#sk-03c59efe-ec0a-43bf-a225-eafe8edcfbb9 div.sk-label label {font-family: monospace;font-weight: bold;background-color: white;display: inline-block;line-height: 1.2em;}#sk-03c59efe-ec0a-43bf-a225-eafe8edcfbb9 div.sk-label-container {position: relative;z-index: 2;text-align: center;}#sk-03c59efe-ec0a-43bf-a225-eafe8edcfbb9 div.sk-container {display: inline-block;position: relative;}</style><div id=\"sk-03c59efe-ec0a-43bf-a225-eafe8edcfbb9\" class\"sk-top-container\"><div class=\"sk-container\"><div class=\"sk-item sk-dashed-wrapped\"><div class=\"sk-label-container\"><div class=\"sk-label sk-toggleable\"><input class=\"sk-toggleable__control sk-hidden--visually\" id=\"146ddfcc-5749-4f28-9a83-fea64717d077\" type=\"checkbox\" ><label class=\"sk-toggleable__label\" for=\"146ddfcc-5749-4f28-9a83-fea64717d077\">RandomizedSearchCV</label><div class=\"sk-toggleable__content\"><pre>RandomizedSearchCV(cv=5,\n",
       "                   estimator=Pipeline(steps=[('ct',\n",
       "                                              ColumnTransformer(transformers=[('nc',\n",
       "                                                                               Pipeline(steps=[('simp_imputer',\n",
       "                                                                                                SimpleImputer(strategy='median')),\n",
       "                                                                                               ('stand_scale',\n",
       "                                                                                                StandardScaler())]),\n",
       "                                                                               ['energy',\n",
       "                                                                                'key',\n",
       "                                                                                'danceability',\n",
       "                                                                                'loudness',\n",
       "                                                                                'speechiness',\n",
       "                                                                                'acousticness',\n",
       "                                                                                'instrumentalness',\n",
       "                                                                                'liveness',\n",
       "                                                                                'valence',\n",
       "                                                                                'tempo']),\n",
       "                                                                              ('cp',\n",
       "                                                                               Pipeline(steps=[('simp_imputer',\n",
       "                                                                                                SimpleImputer(strategy='constant')),\n",
       "                                                                                               ('one_hot_encoder',\n",
       "                                                                                                OneHotEncoder())]),\n",
       "                                                                               ['mode'])])),\n",
       "                                             ('dt', DecisionTreeClassifier())]),\n",
       "                   n_jobs=-1,\n",
       "                   param_distributions={'dt__criterion': ['gini', 'entropy'],\n",
       "                                        'dt__max_depth': [4, 10],\n",
       "                                        'dt__min_impurity_decrease': [0, 1],\n",
       "                                        'dt__min_samples_leaf': [2, 3]},\n",
       "                   refit='accuracy', scoring=['accuracy'], verbose=1)</pre></div></div></div><div class=\"sk-parallel\"><div class=\"sk-parallel-item\"><div class=\"sk-item\"><div class=\"sk-serial\"><div class=\"sk-item\"><div class=\"sk-serial\"><div class=\"sk-item sk-dashed-wrapped\"><div class=\"sk-label-container\"><div class=\"sk-label sk-toggleable\"><input class=\"sk-toggleable__control sk-hidden--visually\" id=\"94cca8c0-e23d-4b36-9f54-ac8bbf5a5ac6\" type=\"checkbox\" ><label class=\"sk-toggleable__label\" for=\"94cca8c0-e23d-4b36-9f54-ac8bbf5a5ac6\">ct: ColumnTransformer</label><div class=\"sk-toggleable__content\"><pre>ColumnTransformer(transformers=[('nc',\n",
       "                                 Pipeline(steps=[('simp_imputer',\n",
       "                                                  SimpleImputer(strategy='median')),\n",
       "                                                 ('stand_scale',\n",
       "                                                  StandardScaler())]),\n",
       "                                 ['energy', 'key', 'danceability', 'loudness',\n",
       "                                  'speechiness', 'acousticness',\n",
       "                                  'instrumentalness', 'liveness', 'valence',\n",
       "                                  'tempo']),\n",
       "                                ('cp',\n",
       "                                 Pipeline(steps=[('simp_imputer',\n",
       "                                                  SimpleImputer(strategy='constant')),\n",
       "                                                 ('one_hot_encoder',\n",
       "                                                  OneHotEncoder())]),\n",
       "                                 ['mode'])])</pre></div></div></div><div class=\"sk-parallel\"><div class=\"sk-parallel-item\"><div class=\"sk-item\"><div class=\"sk-label-container\"><div class=\"sk-label sk-toggleable\"><input class=\"sk-toggleable__control sk-hidden--visually\" id=\"615b0379-b980-4943-87a9-85d81979487e\" type=\"checkbox\" ><label class=\"sk-toggleable__label\" for=\"615b0379-b980-4943-87a9-85d81979487e\">nc</label><div class=\"sk-toggleable__content\"><pre>['energy', 'key', 'danceability', 'loudness', 'speechiness', 'acousticness', 'instrumentalness', 'liveness', 'valence', 'tempo']</pre></div></div></div><div class=\"sk-serial\"><div class=\"sk-item\"><div class=\"sk-serial\"><div class=\"sk-item\"><div class=\"sk-estimator sk-toggleable\"><input class=\"sk-toggleable__control sk-hidden--visually\" id=\"9281eff2-afa6-4f2f-a8a2-c30a90592052\" type=\"checkbox\" ><label class=\"sk-toggleable__label\" for=\"9281eff2-afa6-4f2f-a8a2-c30a90592052\">SimpleImputer</label><div class=\"sk-toggleable__content\"><pre>SimpleImputer(strategy='median')</pre></div></div></div><div class=\"sk-item\"><div class=\"sk-estimator sk-toggleable\"><input class=\"sk-toggleable__control sk-hidden--visually\" id=\"befb5cd9-6295-4f10-befa-57f1302e7e1b\" type=\"checkbox\" ><label class=\"sk-toggleable__label\" for=\"befb5cd9-6295-4f10-befa-57f1302e7e1b\">StandardScaler</label><div class=\"sk-toggleable__content\"><pre>StandardScaler()</pre></div></div></div></div></div></div></div></div><div class=\"sk-parallel-item\"><div class=\"sk-item\"><div class=\"sk-label-container\"><div class=\"sk-label sk-toggleable\"><input class=\"sk-toggleable__control sk-hidden--visually\" id=\"f39d88ac-a3df-4c3f-9cb4-5694b39e8fcd\" type=\"checkbox\" ><label class=\"sk-toggleable__label\" for=\"f39d88ac-a3df-4c3f-9cb4-5694b39e8fcd\">cp</label><div class=\"sk-toggleable__content\"><pre>['mode']</pre></div></div></div><div class=\"sk-serial\"><div class=\"sk-item\"><div class=\"sk-serial\"><div class=\"sk-item\"><div class=\"sk-estimator sk-toggleable\"><input class=\"sk-toggleable__control sk-hidden--visually\" id=\"3755180e-27a8-4d70-945e-66a0be80a4e7\" type=\"checkbox\" ><label class=\"sk-toggleable__label\" for=\"3755180e-27a8-4d70-945e-66a0be80a4e7\">SimpleImputer</label><div class=\"sk-toggleable__content\"><pre>SimpleImputer(strategy='constant')</pre></div></div></div><div class=\"sk-item\"><div class=\"sk-estimator sk-toggleable\"><input class=\"sk-toggleable__control sk-hidden--visually\" id=\"42c71850-29c8-4933-ad3d-8616bb1dd799\" type=\"checkbox\" ><label class=\"sk-toggleable__label\" for=\"42c71850-29c8-4933-ad3d-8616bb1dd799\">OneHotEncoder</label><div class=\"sk-toggleable__content\"><pre>OneHotEncoder()</pre></div></div></div></div></div></div></div></div></div></div><div class=\"sk-item\"><div class=\"sk-estimator sk-toggleable\"><input class=\"sk-toggleable__control sk-hidden--visually\" id=\"bb69879e-241a-4fd0-a115-a360c3f6ce37\" type=\"checkbox\" ><label class=\"sk-toggleable__label\" for=\"bb69879e-241a-4fd0-a115-a360c3f6ce37\">DecisionTreeClassifier</label><div class=\"sk-toggleable__content\"><pre>DecisionTreeClassifier()</pre></div></div></div></div></div></div></div></div></div></div></div></div>"
      ],
      "text/plain": [
       "RandomizedSearchCV(cv=5,\n",
       "                   estimator=Pipeline(steps=[('ct',\n",
       "                                              ColumnTransformer(transformers=[('nc',\n",
       "                                                                               Pipeline(steps=[('simp_imputer',\n",
       "                                                                                                SimpleImputer(strategy='median')),\n",
       "                                                                                               ('stand_scale',\n",
       "                                                                                                StandardScaler())]),\n",
       "                                                                               ['energy',\n",
       "                                                                                'key',\n",
       "                                                                                'danceability',\n",
       "                                                                                'loudness',\n",
       "                                                                                'speechiness',\n",
       "                                                                                'acousticness',\n",
       "                                                                                'instrumentalness',\n",
       "                                                                                'liveness',\n",
       "                                                                                'valence',\n",
       "                                                                                'tempo']),\n",
       "                                                                              ('cp',\n",
       "                                                                               Pipeline(steps=[('simp_imputer',\n",
       "                                                                                                SimpleImputer(strategy='constant')),\n",
       "                                                                                               ('one_hot_encoder',\n",
       "                                                                                                OneHotEncoder())]),\n",
       "                                                                               ['mode'])])),\n",
       "                                             ('dt', DecisionTreeClassifier())]),\n",
       "                   n_jobs=-1,\n",
       "                   param_distributions={'dt__criterion': ['gini', 'entropy'],\n",
       "                                        'dt__max_depth': [4, 10],\n",
       "                                        'dt__min_impurity_decrease': [0, 1],\n",
       "                                        'dt__min_samples_leaf': [2, 3]},\n",
       "                   refit='accuracy', scoring=['accuracy'], verbose=1)"
      ]
     },
     "execution_count": 44,
     "metadata": {},
     "output_type": "execute_result"
    },
    {
     "name": "stdout",
     "output_type": "stream",
     "text": [
      "Cross-validation score: 0.599603833810582\n",
      "Test score: 0.6077295827916323\n"
     ]
    }
   ],
   "source": [
    "rs = RandomizedSearchCV(\n",
    "                           estimator=pt,   # pipeline object\n",
    "                           param_distributions=parameters, # possible parameters\n",
    "                           scoring = ['accuracy'], #Metrics for performance\n",
    "                           cv=5,               # No of folds\n",
    "                           n_jobs=-1,          # USe parallel cpu threads \n",
    "                           verbose =1,         # Higher the value, more the verbosity\n",
    "                           refit = 'accuracy'  # Refitting final model on what parameters Those which maximise auc   \n",
    "                        )\n",
    "rs.fit(X_train, y_train)\n",
    "cv_score = rs.best_score_\n",
    "test_score = rs.score(X_test, y_test)\n",
    "print(f'Cross-validation score: {cv_score}\\nTest score: {test_score}')"
   ]
  },
  {
   "cell_type": "code",
   "execution_count": null,
   "id": "5bd982c1",
   "metadata": {},
   "outputs": [],
   "source": []
  }
 ],
 "metadata": {
  "kernelspec": {
   "display_name": "Python 3 (ipykernel)",
   "language": "python",
   "name": "python3"
  },
  "language_info": {
   "codemirror_mode": {
    "name": "ipython",
    "version": 3
   },
   "file_extension": ".py",
   "mimetype": "text/x-python",
   "name": "python",
   "nbconvert_exporter": "python",
   "pygments_lexer": "ipython3",
   "version": "3.9.7"
  }
 },
 "nbformat": 4,
 "nbformat_minor": 5
}
